{
  "cells": [
    {
      "cell_type": "markdown",
      "metadata": {
        "id": "view-in-github",
        "colab_type": "text"
      },
      "source": [
        "<a href=\"https://colab.research.google.com/github/ayush-raj13/Retail-Data-Analytics/blob/main/sales_predictions.ipynb\" target=\"_parent\"><img src=\"https://colab.research.google.com/assets/colab-badge.svg\" alt=\"Open In Colab\"/></a>"
      ]
    },
    {
      "cell_type": "code",
      "execution_count": 3,
      "id": "major-louisiana",
      "metadata": {
        "execution": {
          "iopub.execute_input": "2021-06-16T15:50:45.559806Z",
          "iopub.status.busy": "2021-06-16T15:50:45.559117Z",
          "iopub.status.idle": "2021-06-16T15:50:46.370405Z",
          "shell.execute_reply": "2021-06-16T15:50:46.369638Z",
          "shell.execute_reply.started": "2021-06-16T15:49:58.244929Z"
        },
        "id": "major-louisiana",
        "papermill": {
          "duration": 0.857159,
          "end_time": "2021-06-16T15:50:46.370560",
          "exception": false,
          "start_time": "2021-06-16T15:50:45.513401",
          "status": "completed"
        },
        "tags": []
      },
      "outputs": [],
      "source": [
        "import pandas as pd\n",
        "import numpy as np\n",
        "import matplotlib.pyplot as plt\n",
        "import seaborn as sns"
      ]
    },
    {
      "cell_type": "code",
      "source": [
        "from google.colab import drive\n",
        "drive.mount('/content/drive')"
      ],
      "metadata": {
        "colab": {
          "base_uri": "https://localhost:8080/"
        },
        "id": "jlIZ35fOBsxm",
        "outputId": "1e03a209-e9aa-4cd9-e7ae-5e1b0b7adf8d"
      },
      "id": "jlIZ35fOBsxm",
      "execution_count": 1,
      "outputs": [
        {
          "output_type": "stream",
          "name": "stdout",
          "text": [
            "Mounted at /content/drive\n"
          ]
        }
      ]
    },
    {
      "cell_type": "code",
      "execution_count": 11,
      "id": "strong-region",
      "metadata": {
        "execution": {
          "iopub.execute_input": "2021-06-16T15:50:46.459158Z",
          "iopub.status.busy": "2021-06-16T15:50:46.458557Z",
          "iopub.status.idle": "2021-06-16T15:50:46.918815Z",
          "shell.execute_reply": "2021-06-16T15:50:46.919275Z",
          "shell.execute_reply.started": "2021-06-16T15:49:58.256575Z"
        },
        "id": "strong-region",
        "papermill": {
          "duration": 0.507029,
          "end_time": "2021-06-16T15:50:46.919470",
          "exception": false,
          "start_time": "2021-06-16T15:50:46.412441",
          "status": "completed"
        },
        "tags": []
      },
      "outputs": [],
      "source": [
        "df_stores = pd.read_csv('/content/drive/MyDrive/kaggle/input/stores data-set.csv')\n",
        "df_features = pd.read_csv('/content/drive/MyDrive/kaggle/input/Features data set.csv', parse_dates = ['Date'])\n",
        "df_sales = pd.read_csv('/content/drive/MyDrive/kaggle/input/sales data-set.csv', parse_dates = ['Date'])"
      ]
    },
    {
      "cell_type": "markdown",
      "id": "suburban-alpha",
      "metadata": {
        "id": "suburban-alpha",
        "papermill": {
          "duration": 0.041407,
          "end_time": "2021-06-16T15:50:47.003524",
          "exception": false,
          "start_time": "2021-06-16T15:50:46.962117",
          "status": "completed"
        },
        "tags": []
      },
      "source": [
        "## Cleaning and preprocessing"
      ]
    },
    {
      "cell_type": "code",
      "execution_count": 5,
      "id": "departmental-sauce",
      "metadata": {
        "execution": {
          "iopub.execute_input": "2021-06-16T15:50:47.095610Z",
          "iopub.status.busy": "2021-06-16T15:50:47.094661Z",
          "iopub.status.idle": "2021-06-16T15:50:47.108815Z",
          "shell.execute_reply": "2021-06-16T15:50:47.109397Z",
          "shell.execute_reply.started": "2021-06-16T15:49:58.604781Z"
        },
        "id": "departmental-sauce",
        "outputId": "16d13537-0c0d-4e75-d2f0-3eac6cbe644b",
        "papermill": {
          "duration": 0.063392,
          "end_time": "2021-06-16T15:50:47.109557",
          "exception": false,
          "start_time": "2021-06-16T15:50:47.046165",
          "status": "completed"
        },
        "scrolled": true,
        "tags": [],
        "colab": {
          "base_uri": "https://localhost:8080/",
          "height": 206
        }
      },
      "outputs": [
        {
          "output_type": "execute_result",
          "data": {
            "text/plain": [
              "   Store  Dept        Date  Weekly_Sales  IsHoliday\n",
              "0      1     1  05/02/2010      24924.50      False\n",
              "1      1     1  12/02/2010      46039.49       True\n",
              "2      1     1  19/02/2010      41595.55      False\n",
              "3      1     1  26/02/2010      19403.54      False\n",
              "4      1     1  05/03/2010      21827.90      False"
            ],
            "text/html": [
              "\n",
              "  <div id=\"df-fe0f7da8-be34-4c89-a275-d57283d58567\" class=\"colab-df-container\">\n",
              "    <div>\n",
              "<style scoped>\n",
              "    .dataframe tbody tr th:only-of-type {\n",
              "        vertical-align: middle;\n",
              "    }\n",
              "\n",
              "    .dataframe tbody tr th {\n",
              "        vertical-align: top;\n",
              "    }\n",
              "\n",
              "    .dataframe thead th {\n",
              "        text-align: right;\n",
              "    }\n",
              "</style>\n",
              "<table border=\"1\" class=\"dataframe\">\n",
              "  <thead>\n",
              "    <tr style=\"text-align: right;\">\n",
              "      <th></th>\n",
              "      <th>Store</th>\n",
              "      <th>Dept</th>\n",
              "      <th>Date</th>\n",
              "      <th>Weekly_Sales</th>\n",
              "      <th>IsHoliday</th>\n",
              "    </tr>\n",
              "  </thead>\n",
              "  <tbody>\n",
              "    <tr>\n",
              "      <th>0</th>\n",
              "      <td>1</td>\n",
              "      <td>1</td>\n",
              "      <td>05/02/2010</td>\n",
              "      <td>24924.50</td>\n",
              "      <td>False</td>\n",
              "    </tr>\n",
              "    <tr>\n",
              "      <th>1</th>\n",
              "      <td>1</td>\n",
              "      <td>1</td>\n",
              "      <td>12/02/2010</td>\n",
              "      <td>46039.49</td>\n",
              "      <td>True</td>\n",
              "    </tr>\n",
              "    <tr>\n",
              "      <th>2</th>\n",
              "      <td>1</td>\n",
              "      <td>1</td>\n",
              "      <td>19/02/2010</td>\n",
              "      <td>41595.55</td>\n",
              "      <td>False</td>\n",
              "    </tr>\n",
              "    <tr>\n",
              "      <th>3</th>\n",
              "      <td>1</td>\n",
              "      <td>1</td>\n",
              "      <td>26/02/2010</td>\n",
              "      <td>19403.54</td>\n",
              "      <td>False</td>\n",
              "    </tr>\n",
              "    <tr>\n",
              "      <th>4</th>\n",
              "      <td>1</td>\n",
              "      <td>1</td>\n",
              "      <td>05/03/2010</td>\n",
              "      <td>21827.90</td>\n",
              "      <td>False</td>\n",
              "    </tr>\n",
              "  </tbody>\n",
              "</table>\n",
              "</div>\n",
              "    <div class=\"colab-df-buttons\">\n",
              "\n",
              "  <div class=\"colab-df-container\">\n",
              "    <button class=\"colab-df-convert\" onclick=\"convertToInteractive('df-fe0f7da8-be34-4c89-a275-d57283d58567')\"\n",
              "            title=\"Convert this dataframe to an interactive table.\"\n",
              "            style=\"display:none;\">\n",
              "\n",
              "  <svg xmlns=\"http://www.w3.org/2000/svg\" height=\"24px\" viewBox=\"0 -960 960 960\">\n",
              "    <path d=\"M120-120v-720h720v720H120Zm60-500h600v-160H180v160Zm220 220h160v-160H400v160Zm0 220h160v-160H400v160ZM180-400h160v-160H180v160Zm440 0h160v-160H620v160ZM180-180h160v-160H180v160Zm440 0h160v-160H620v160Z\"/>\n",
              "  </svg>\n",
              "    </button>\n",
              "\n",
              "  <style>\n",
              "    .colab-df-container {\n",
              "      display:flex;\n",
              "      gap: 12px;\n",
              "    }\n",
              "\n",
              "    .colab-df-convert {\n",
              "      background-color: #E8F0FE;\n",
              "      border: none;\n",
              "      border-radius: 50%;\n",
              "      cursor: pointer;\n",
              "      display: none;\n",
              "      fill: #1967D2;\n",
              "      height: 32px;\n",
              "      padding: 0 0 0 0;\n",
              "      width: 32px;\n",
              "    }\n",
              "\n",
              "    .colab-df-convert:hover {\n",
              "      background-color: #E2EBFA;\n",
              "      box-shadow: 0px 1px 2px rgba(60, 64, 67, 0.3), 0px 1px 3px 1px rgba(60, 64, 67, 0.15);\n",
              "      fill: #174EA6;\n",
              "    }\n",
              "\n",
              "    .colab-df-buttons div {\n",
              "      margin-bottom: 4px;\n",
              "    }\n",
              "\n",
              "    [theme=dark] .colab-df-convert {\n",
              "      background-color: #3B4455;\n",
              "      fill: #D2E3FC;\n",
              "    }\n",
              "\n",
              "    [theme=dark] .colab-df-convert:hover {\n",
              "      background-color: #434B5C;\n",
              "      box-shadow: 0px 1px 3px 1px rgba(0, 0, 0, 0.15);\n",
              "      filter: drop-shadow(0px 1px 2px rgba(0, 0, 0, 0.3));\n",
              "      fill: #FFFFFF;\n",
              "    }\n",
              "  </style>\n",
              "\n",
              "    <script>\n",
              "      const buttonEl =\n",
              "        document.querySelector('#df-fe0f7da8-be34-4c89-a275-d57283d58567 button.colab-df-convert');\n",
              "      buttonEl.style.display =\n",
              "        google.colab.kernel.accessAllowed ? 'block' : 'none';\n",
              "\n",
              "      async function convertToInteractive(key) {\n",
              "        const element = document.querySelector('#df-fe0f7da8-be34-4c89-a275-d57283d58567');\n",
              "        const dataTable =\n",
              "          await google.colab.kernel.invokeFunction('convertToInteractive',\n",
              "                                                    [key], {});\n",
              "        if (!dataTable) return;\n",
              "\n",
              "        const docLinkHtml = 'Like what you see? Visit the ' +\n",
              "          '<a target=\"_blank\" href=https://colab.research.google.com/notebooks/data_table.ipynb>data table notebook</a>'\n",
              "          + ' to learn more about interactive tables.';\n",
              "        element.innerHTML = '';\n",
              "        dataTable['output_type'] = 'display_data';\n",
              "        await google.colab.output.renderOutput(dataTable, element);\n",
              "        const docLink = document.createElement('div');\n",
              "        docLink.innerHTML = docLinkHtml;\n",
              "        element.appendChild(docLink);\n",
              "      }\n",
              "    </script>\n",
              "  </div>\n",
              "\n",
              "\n",
              "<div id=\"df-e3e950d7-804d-445e-8000-83157b48327f\">\n",
              "  <button class=\"colab-df-quickchart\" onclick=\"quickchart('df-e3e950d7-804d-445e-8000-83157b48327f')\"\n",
              "            title=\"Suggest charts\"\n",
              "            style=\"display:none;\">\n",
              "\n",
              "<svg xmlns=\"http://www.w3.org/2000/svg\" height=\"24px\"viewBox=\"0 0 24 24\"\n",
              "     width=\"24px\">\n",
              "    <g>\n",
              "        <path d=\"M19 3H5c-1.1 0-2 .9-2 2v14c0 1.1.9 2 2 2h14c1.1 0 2-.9 2-2V5c0-1.1-.9-2-2-2zM9 17H7v-7h2v7zm4 0h-2V7h2v10zm4 0h-2v-4h2v4z\"/>\n",
              "    </g>\n",
              "</svg>\n",
              "  </button>\n",
              "\n",
              "<style>\n",
              "  .colab-df-quickchart {\n",
              "      --bg-color: #E8F0FE;\n",
              "      --fill-color: #1967D2;\n",
              "      --hover-bg-color: #E2EBFA;\n",
              "      --hover-fill-color: #174EA6;\n",
              "      --disabled-fill-color: #AAA;\n",
              "      --disabled-bg-color: #DDD;\n",
              "  }\n",
              "\n",
              "  [theme=dark] .colab-df-quickchart {\n",
              "      --bg-color: #3B4455;\n",
              "      --fill-color: #D2E3FC;\n",
              "      --hover-bg-color: #434B5C;\n",
              "      --hover-fill-color: #FFFFFF;\n",
              "      --disabled-bg-color: #3B4455;\n",
              "      --disabled-fill-color: #666;\n",
              "  }\n",
              "\n",
              "  .colab-df-quickchart {\n",
              "    background-color: var(--bg-color);\n",
              "    border: none;\n",
              "    border-radius: 50%;\n",
              "    cursor: pointer;\n",
              "    display: none;\n",
              "    fill: var(--fill-color);\n",
              "    height: 32px;\n",
              "    padding: 0;\n",
              "    width: 32px;\n",
              "  }\n",
              "\n",
              "  .colab-df-quickchart:hover {\n",
              "    background-color: var(--hover-bg-color);\n",
              "    box-shadow: 0 1px 2px rgba(60, 64, 67, 0.3), 0 1px 3px 1px rgba(60, 64, 67, 0.15);\n",
              "    fill: var(--button-hover-fill-color);\n",
              "  }\n",
              "\n",
              "  .colab-df-quickchart-complete:disabled,\n",
              "  .colab-df-quickchart-complete:disabled:hover {\n",
              "    background-color: var(--disabled-bg-color);\n",
              "    fill: var(--disabled-fill-color);\n",
              "    box-shadow: none;\n",
              "  }\n",
              "\n",
              "  .colab-df-spinner {\n",
              "    border: 2px solid var(--fill-color);\n",
              "    border-color: transparent;\n",
              "    border-bottom-color: var(--fill-color);\n",
              "    animation:\n",
              "      spin 1s steps(1) infinite;\n",
              "  }\n",
              "\n",
              "  @keyframes spin {\n",
              "    0% {\n",
              "      border-color: transparent;\n",
              "      border-bottom-color: var(--fill-color);\n",
              "      border-left-color: var(--fill-color);\n",
              "    }\n",
              "    20% {\n",
              "      border-color: transparent;\n",
              "      border-left-color: var(--fill-color);\n",
              "      border-top-color: var(--fill-color);\n",
              "    }\n",
              "    30% {\n",
              "      border-color: transparent;\n",
              "      border-left-color: var(--fill-color);\n",
              "      border-top-color: var(--fill-color);\n",
              "      border-right-color: var(--fill-color);\n",
              "    }\n",
              "    40% {\n",
              "      border-color: transparent;\n",
              "      border-right-color: var(--fill-color);\n",
              "      border-top-color: var(--fill-color);\n",
              "    }\n",
              "    60% {\n",
              "      border-color: transparent;\n",
              "      border-right-color: var(--fill-color);\n",
              "    }\n",
              "    80% {\n",
              "      border-color: transparent;\n",
              "      border-right-color: var(--fill-color);\n",
              "      border-bottom-color: var(--fill-color);\n",
              "    }\n",
              "    90% {\n",
              "      border-color: transparent;\n",
              "      border-bottom-color: var(--fill-color);\n",
              "    }\n",
              "  }\n",
              "</style>\n",
              "\n",
              "  <script>\n",
              "    async function quickchart(key) {\n",
              "      const quickchartButtonEl =\n",
              "        document.querySelector('#' + key + ' button');\n",
              "      quickchartButtonEl.disabled = true;  // To prevent multiple clicks.\n",
              "      quickchartButtonEl.classList.add('colab-df-spinner');\n",
              "      try {\n",
              "        const charts = await google.colab.kernel.invokeFunction(\n",
              "            'suggestCharts', [key], {});\n",
              "      } catch (error) {\n",
              "        console.error('Error during call to suggestCharts:', error);\n",
              "      }\n",
              "      quickchartButtonEl.classList.remove('colab-df-spinner');\n",
              "      quickchartButtonEl.classList.add('colab-df-quickchart-complete');\n",
              "    }\n",
              "    (() => {\n",
              "      let quickchartButtonEl =\n",
              "        document.querySelector('#df-e3e950d7-804d-445e-8000-83157b48327f button');\n",
              "      quickchartButtonEl.style.display =\n",
              "        google.colab.kernel.accessAllowed ? 'block' : 'none';\n",
              "    })();\n",
              "  </script>\n",
              "</div>\n",
              "\n",
              "    </div>\n",
              "  </div>\n"
            ],
            "application/vnd.google.colaboratory.intrinsic+json": {
              "type": "dataframe",
              "variable_name": "df_sales"
            }
          },
          "metadata": {},
          "execution_count": 5
        }
      ],
      "source": [
        "df_sales.head()"
      ]
    },
    {
      "cell_type": "code",
      "execution_count": null,
      "id": "heated-virgin",
      "metadata": {
        "execution": {
          "iopub.execute_input": "2021-06-16T15:50:47.199146Z",
          "iopub.status.busy": "2021-06-16T15:50:47.198252Z",
          "iopub.status.idle": "2021-06-16T15:50:47.212184Z",
          "shell.execute_reply": "2021-06-16T15:50:47.212662Z",
          "shell.execute_reply.started": "2021-06-16T15:49:58.627477Z"
        },
        "id": "heated-virgin",
        "outputId": "2286dd4d-10ea-48a0-e9d1-35eca57bb5f7",
        "papermill": {
          "duration": 0.059836,
          "end_time": "2021-06-16T15:50:47.212826",
          "exception": false,
          "start_time": "2021-06-16T15:50:47.152990",
          "status": "completed"
        },
        "scrolled": true,
        "tags": []
      },
      "outputs": [
        {
          "data": {
            "text/plain": [
              "2011-12-23    3027\n",
              "2011-11-25    3021\n",
              "2011-12-16    3013\n",
              "2011-09-12    3010\n",
              "2012-02-17    3007\n",
              "              ... \n",
              "2010-09-07    2903\n",
              "2010-07-16    2901\n",
              "2010-08-20    2901\n",
              "2010-08-27    2898\n",
              "2010-08-13    2896\n",
              "Name: Date, Length: 143, dtype: int64"
            ]
          },
          "execution_count": 4,
          "metadata": {},
          "output_type": "execute_result"
        }
      ],
      "source": [
        "df_sales.Date.value_counts()"
      ]
    },
    {
      "cell_type": "code",
      "execution_count": null,
      "id": "broad-natural",
      "metadata": {
        "execution": {
          "iopub.execute_input": "2021-06-16T15:50:47.302451Z",
          "iopub.status.busy": "2021-06-16T15:50:47.301565Z",
          "iopub.status.idle": "2021-06-16T15:50:47.320216Z",
          "shell.execute_reply": "2021-06-16T15:50:47.320869Z",
          "shell.execute_reply.started": "2021-06-16T15:49:58.644862Z"
        },
        "id": "broad-natural",
        "outputId": "5b1b5527-204b-4909-9c5a-e44150bb8f36",
        "papermill": {
          "duration": 0.065711,
          "end_time": "2021-06-16T15:50:47.321078",
          "exception": false,
          "start_time": "2021-06-16T15:50:47.255367",
          "status": "completed"
        },
        "tags": []
      },
      "outputs": [
        {
          "name": "stdout",
          "output_type": "stream",
          "text": [
            "<class 'pandas.core.frame.DataFrame'>\n",
            "RangeIndex: 421570 entries, 0 to 421569\n",
            "Data columns (total 5 columns):\n",
            " #   Column        Non-Null Count   Dtype         \n",
            "---  ------        --------------   -----         \n",
            " 0   Store         421570 non-null  int64         \n",
            " 1   Dept          421570 non-null  int64         \n",
            " 2   Date          421570 non-null  datetime64[ns]\n",
            " 3   Weekly_Sales  421570 non-null  float64       \n",
            " 4   IsHoliday     421570 non-null  bool          \n",
            "dtypes: bool(1), datetime64[ns](1), float64(1), int64(2)\n",
            "memory usage: 13.3 MB\n"
          ]
        }
      ],
      "source": [
        "df_sales.info()"
      ]
    },
    {
      "cell_type": "code",
      "execution_count": null,
      "id": "collected-designer",
      "metadata": {
        "execution": {
          "iopub.execute_input": "2021-06-16T15:50:47.410484Z",
          "iopub.status.busy": "2021-06-16T15:50:47.409922Z",
          "iopub.status.idle": "2021-06-16T15:50:47.424885Z",
          "shell.execute_reply": "2021-06-16T15:50:47.425340Z",
          "shell.execute_reply.started": "2021-06-16T15:49:58.671137Z"
        },
        "id": "collected-designer",
        "outputId": "ae79ce61-4efa-444e-e5ee-c10ca69d656a",
        "papermill": {
          "duration": 0.060937,
          "end_time": "2021-06-16T15:50:47.425506",
          "exception": false,
          "start_time": "2021-06-16T15:50:47.364569",
          "status": "completed"
        },
        "scrolled": true,
        "tags": []
      },
      "outputs": [
        {
          "data": {
            "text/html": [
              "<div>\n",
              "<style scoped>\n",
              "    .dataframe tbody tr th:only-of-type {\n",
              "        vertical-align: middle;\n",
              "    }\n",
              "\n",
              "    .dataframe tbody tr th {\n",
              "        vertical-align: top;\n",
              "    }\n",
              "\n",
              "    .dataframe thead th {\n",
              "        text-align: right;\n",
              "    }\n",
              "</style>\n",
              "<table border=\"1\" class=\"dataframe\">\n",
              "  <thead>\n",
              "    <tr style=\"text-align: right;\">\n",
              "      <th></th>\n",
              "      <th>Store</th>\n",
              "      <th>Date</th>\n",
              "      <th>Temperature</th>\n",
              "      <th>Fuel_Price</th>\n",
              "      <th>MarkDown1</th>\n",
              "      <th>MarkDown2</th>\n",
              "      <th>MarkDown3</th>\n",
              "      <th>MarkDown4</th>\n",
              "      <th>MarkDown5</th>\n",
              "      <th>CPI</th>\n",
              "      <th>Unemployment</th>\n",
              "      <th>IsHoliday</th>\n",
              "    </tr>\n",
              "  </thead>\n",
              "  <tbody>\n",
              "    <tr>\n",
              "      <th>0</th>\n",
              "      <td>1</td>\n",
              "      <td>2010-05-02</td>\n",
              "      <td>42.31</td>\n",
              "      <td>2.572</td>\n",
              "      <td>NaN</td>\n",
              "      <td>NaN</td>\n",
              "      <td>NaN</td>\n",
              "      <td>NaN</td>\n",
              "      <td>NaN</td>\n",
              "      <td>211.096358</td>\n",
              "      <td>8.106</td>\n",
              "      <td>False</td>\n",
              "    </tr>\n",
              "    <tr>\n",
              "      <th>1</th>\n",
              "      <td>1</td>\n",
              "      <td>2010-12-02</td>\n",
              "      <td>38.51</td>\n",
              "      <td>2.548</td>\n",
              "      <td>NaN</td>\n",
              "      <td>NaN</td>\n",
              "      <td>NaN</td>\n",
              "      <td>NaN</td>\n",
              "      <td>NaN</td>\n",
              "      <td>211.242170</td>\n",
              "      <td>8.106</td>\n",
              "      <td>True</td>\n",
              "    </tr>\n",
              "    <tr>\n",
              "      <th>2</th>\n",
              "      <td>1</td>\n",
              "      <td>2010-02-19</td>\n",
              "      <td>39.93</td>\n",
              "      <td>2.514</td>\n",
              "      <td>NaN</td>\n",
              "      <td>NaN</td>\n",
              "      <td>NaN</td>\n",
              "      <td>NaN</td>\n",
              "      <td>NaN</td>\n",
              "      <td>211.289143</td>\n",
              "      <td>8.106</td>\n",
              "      <td>False</td>\n",
              "    </tr>\n",
              "    <tr>\n",
              "      <th>3</th>\n",
              "      <td>1</td>\n",
              "      <td>2010-02-26</td>\n",
              "      <td>46.63</td>\n",
              "      <td>2.561</td>\n",
              "      <td>NaN</td>\n",
              "      <td>NaN</td>\n",
              "      <td>NaN</td>\n",
              "      <td>NaN</td>\n",
              "      <td>NaN</td>\n",
              "      <td>211.319643</td>\n",
              "      <td>8.106</td>\n",
              "      <td>False</td>\n",
              "    </tr>\n",
              "    <tr>\n",
              "      <th>4</th>\n",
              "      <td>1</td>\n",
              "      <td>2010-05-03</td>\n",
              "      <td>46.50</td>\n",
              "      <td>2.625</td>\n",
              "      <td>NaN</td>\n",
              "      <td>NaN</td>\n",
              "      <td>NaN</td>\n",
              "      <td>NaN</td>\n",
              "      <td>NaN</td>\n",
              "      <td>211.350143</td>\n",
              "      <td>8.106</td>\n",
              "      <td>False</td>\n",
              "    </tr>\n",
              "  </tbody>\n",
              "</table>\n",
              "</div>"
            ],
            "text/plain": [
              "   Store       Date  Temperature  Fuel_Price  MarkDown1  MarkDown2  MarkDown3  \\\n",
              "0      1 2010-05-02        42.31       2.572        NaN        NaN        NaN   \n",
              "1      1 2010-12-02        38.51       2.548        NaN        NaN        NaN   \n",
              "2      1 2010-02-19        39.93       2.514        NaN        NaN        NaN   \n",
              "3      1 2010-02-26        46.63       2.561        NaN        NaN        NaN   \n",
              "4      1 2010-05-03        46.50       2.625        NaN        NaN        NaN   \n",
              "\n",
              "   MarkDown4  MarkDown5         CPI  Unemployment  IsHoliday  \n",
              "0        NaN        NaN  211.096358         8.106      False  \n",
              "1        NaN        NaN  211.242170         8.106       True  \n",
              "2        NaN        NaN  211.289143         8.106      False  \n",
              "3        NaN        NaN  211.319643         8.106      False  \n",
              "4        NaN        NaN  211.350143         8.106      False  "
            ]
          },
          "execution_count": 6,
          "metadata": {},
          "output_type": "execute_result"
        }
      ],
      "source": [
        "df_features.head()"
      ]
    },
    {
      "cell_type": "code",
      "execution_count": null,
      "id": "demonstrated-posting",
      "metadata": {
        "execution": {
          "iopub.execute_input": "2021-06-16T15:50:47.515775Z",
          "iopub.status.busy": "2021-06-16T15:50:47.515238Z",
          "iopub.status.idle": "2021-06-16T15:50:47.523018Z",
          "shell.execute_reply": "2021-06-16T15:50:47.522566Z",
          "shell.execute_reply.started": "2021-06-16T15:49:58.692923Z"
        },
        "id": "demonstrated-posting",
        "outputId": "c2ae13db-bed8-4eba-91c9-317fff91a6b3",
        "papermill": {
          "duration": 0.053862,
          "end_time": "2021-06-16T15:50:47.523148",
          "exception": false,
          "start_time": "2021-06-16T15:50:47.469286",
          "status": "completed"
        },
        "scrolled": true,
        "tags": []
      },
      "outputs": [
        {
          "data": {
            "text/plain": [
              "Store              0\n",
              "Date               0\n",
              "Temperature        0\n",
              "Fuel_Price         0\n",
              "MarkDown1       4158\n",
              "MarkDown2       5269\n",
              "MarkDown3       4577\n",
              "MarkDown4       4726\n",
              "MarkDown5       4140\n",
              "CPI              585\n",
              "Unemployment     585\n",
              "IsHoliday          0\n",
              "dtype: int64"
            ]
          },
          "execution_count": 7,
          "metadata": {},
          "output_type": "execute_result"
        }
      ],
      "source": [
        "df_features.isna().sum()"
      ]
    },
    {
      "cell_type": "code",
      "execution_count": 12,
      "id": "young-paper",
      "metadata": {
        "execution": {
          "iopub.execute_input": "2021-06-16T15:50:47.616756Z",
          "iopub.status.busy": "2021-06-16T15:50:47.616201Z",
          "iopub.status.idle": "2021-06-16T15:50:47.820331Z",
          "shell.execute_reply": "2021-06-16T15:50:47.821090Z",
          "shell.execute_reply.started": "2021-06-16T15:49:58.703294Z"
        },
        "id": "young-paper",
        "outputId": "d9ce7f7f-fa83-4da9-bf15-f1e96f0decdd",
        "papermill": {
          "duration": 0.253557,
          "end_time": "2021-06-16T15:50:47.821288",
          "exception": false,
          "start_time": "2021-06-16T15:50:47.567731",
          "status": "completed"
        },
        "tags": [],
        "colab": {
          "base_uri": "https://localhost:8080/",
          "height": 430
        }
      },
      "outputs": [
        {
          "output_type": "display_data",
          "data": {
            "text/plain": [
              "<Figure size 640x480 with 1 Axes>"
            ],
            "image/png": "[encoded data removed]"
          },
          "metadata": {}
        }
      ],
      "source": [
        "df_features.Unemployment.plot();"
      ]
    },
    {
      "cell_type": "code",
      "execution_count": 13,
      "id": "creative-entertainment",
      "metadata": {
        "execution": {
          "iopub.execute_input": "2021-06-16T15:50:47.917746Z",
          "iopub.status.busy": "2021-06-16T15:50:47.917162Z",
          "iopub.status.idle": "2021-06-16T15:50:48.071517Z",
          "shell.execute_reply": "2021-06-16T15:50:48.072231Z",
          "shell.execute_reply.started": "2021-06-16T15:49:58.924009Z"
        },
        "id": "creative-entertainment",
        "outputId": "382d8718-8df8-47b5-a7e2-7d84a25d793a",
        "papermill": {
          "duration": 0.204147,
          "end_time": "2021-06-16T15:50:48.072463",
          "exception": false,
          "start_time": "2021-06-16T15:50:47.868316",
          "status": "completed"
        },
        "tags": [],
        "colab": {
          "base_uri": "https://localhost:8080/",
          "height": 430
        }
      },
      "outputs": [
        {
          "output_type": "display_data",
          "data": {
            "text/plain": [
              "<Figure size 640x480 with 1 Axes>"
            ],
            "image/png": "[encoded data removed]"
          },
          "metadata": {}
        }
      ],
      "source": [
        "df_features.CPI.plot();"
      ]
    },
    {
      "cell_type": "code",
      "execution_count": 14,
      "id": "complex-electricity",
      "metadata": {
        "execution": {
          "iopub.execute_input": "2021-06-16T15:50:48.174096Z",
          "iopub.status.busy": "2021-06-16T15:50:48.173405Z",
          "iopub.status.idle": "2021-06-16T15:50:48.321772Z",
          "shell.execute_reply": "2021-06-16T15:50:48.321086Z",
          "shell.execute_reply.started": "2021-06-16T15:49:59.070437Z"
        },
        "id": "complex-electricity",
        "outputId": "4828e5eb-43cf-4700-ca0f-9aeb76969301",
        "papermill": {
          "duration": 0.19926,
          "end_time": "2021-06-16T15:50:48.321980",
          "exception": false,
          "start_time": "2021-06-16T15:50:48.122720",
          "status": "completed"
        },
        "tags": [],
        "colab": {
          "base_uri": "https://localhost:8080/",
          "height": 430
        }
      },
      "outputs": [
        {
          "output_type": "display_data",
          "data": {
            "text/plain": [
              "<Figure size 640x480 with 1 Axes>"
            ],
            "image/png": "[encoded data removed]"
          },
          "metadata": {}
        }
      ],
      "source": [
        "df_features[df_features.Store == 20].CPI.plot();"
      ]
    },
    {
      "cell_type": "code",
      "execution_count": 15,
      "id": "twelve-mauritius",
      "metadata": {
        "execution": {
          "iopub.execute_input": "2021-06-16T15:50:48.429268Z",
          "iopub.status.busy": "2021-06-16T15:50:48.428524Z",
          "iopub.status.idle": "2021-06-16T15:50:48.559361Z",
          "shell.execute_reply": "2021-06-16T15:50:48.558807Z",
          "shell.execute_reply.started": "2021-06-16T15:49:59.249222Z"
        },
        "id": "twelve-mauritius",
        "outputId": "13a8c6fc-4ef8-4aba-8463-f9dc66792d1b",
        "papermill": {
          "duration": 0.18398,
          "end_time": "2021-06-16T15:50:48.559495",
          "exception": false,
          "start_time": "2021-06-16T15:50:48.375515",
          "status": "completed"
        },
        "tags": [],
        "colab": {
          "base_uri": "https://localhost:8080/",
          "height": 430
        }
      },
      "outputs": [
        {
          "output_type": "display_data",
          "data": {
            "text/plain": [
              "<Figure size 640x480 with 1 Axes>"
            ],
            "image/png": "[encoded data removed]"
          },
          "metadata": {}
        }
      ],
      "source": [
        "df_features[df_features.Store == 40].CPI.plot();"
      ]
    },
    {
      "cell_type": "markdown",
      "source": [
        "# Effect of Holiday on Weekly Sales"
      ],
      "metadata": {
        "id": "SbaRLFy7JOqx"
      },
      "id": "SbaRLFy7JOqx"
    },
    {
      "cell_type": "code",
      "source": [
        "from mpl_toolkits.mplot3d import Axes3D\n",
        "\n",
        "colum = ['IsHoliday']\n",
        "datasales = pd.get_dummies(df_sales,columns=colum)\n",
        "\n",
        "fig = plt.figure()\n",
        "ax = fig.add_subplot(111, projection='3d')\n",
        "x =datasales['Store']\n",
        "y =datasales['Weekly_Sales']\n",
        "z =datasales['IsHoliday_False']\n",
        "ax.scatter(x, y, z)\n",
        "\n",
        "# Set labels and title\n",
        "ax.set_xlabel('Store')\n",
        "ax.set_ylabel('Weekly_sales')\n",
        "ax.set_zlabel('IsHoliday_False')\n",
        "ax.set_title('3D Scatter Plot')"
      ],
      "metadata": {
        "colab": {
          "base_uri": "https://localhost:8080/",
          "height": 449
        },
        "id": "GVcaWgO8H6I4",
        "outputId": "0e0b9776-2176-4571-c393-f5aecb3463ff"
      },
      "id": "GVcaWgO8H6I4",
      "execution_count": 16,
      "outputs": [
        {
          "output_type": "execute_result",
          "data": {
            "text/plain": [
              "Text(0.5, 0.92, '3D Scatter Plot')"
            ]
          },
          "metadata": {},
          "execution_count": 16
        },
        {
          "output_type": "display_data",
          "data": {
            "text/plain": [
              "<Figure size 640x480 with 1 Axes>"
            ],
            "image/png": "[encoded data removed]"
          },
          "metadata": {}
        }
      ]
    },
    {
      "cell_type": "code",
      "execution_count": null,
      "id": "failing-charter",
      "metadata": {
        "execution": {
          "iopub.execute_input": "2021-06-16T15:50:48.657135Z",
          "iopub.status.busy": "2021-06-16T15:50:48.656574Z",
          "iopub.status.idle": "2021-06-16T15:50:48.677370Z",
          "shell.execute_reply": "2021-06-16T15:50:48.677813Z",
          "shell.execute_reply.started": "2021-06-16T15:49:59.404704Z"
        },
        "id": "failing-charter",
        "outputId": "5e68ea1e-8e05-498d-a730-97da068a967f",
        "papermill": {
          "duration": 0.07135,
          "end_time": "2021-06-16T15:50:48.677993",
          "exception": false,
          "start_time": "2021-06-16T15:50:48.606643",
          "status": "completed"
        },
        "tags": []
      },
      "outputs": [
        {
          "data": {
            "text/html": [
              "<div>\n",
              "<style scoped>\n",
              "    .dataframe tbody tr th:only-of-type {\n",
              "        vertical-align: middle;\n",
              "    }\n",
              "\n",
              "    .dataframe tbody tr th {\n",
              "        vertical-align: top;\n",
              "    }\n",
              "\n",
              "    .dataframe thead th {\n",
              "        text-align: right;\n",
              "    }\n",
              "</style>\n",
              "<table border=\"1\" class=\"dataframe\">\n",
              "  <thead>\n",
              "    <tr style=\"text-align: right;\">\n",
              "      <th></th>\n",
              "      <th>Store</th>\n",
              "      <th>Date</th>\n",
              "      <th>Temperature</th>\n",
              "      <th>Fuel_Price</th>\n",
              "      <th>MarkDown1</th>\n",
              "      <th>MarkDown2</th>\n",
              "      <th>MarkDown3</th>\n",
              "      <th>MarkDown4</th>\n",
              "      <th>MarkDown5</th>\n",
              "      <th>CPI</th>\n",
              "      <th>Unemployment</th>\n",
              "      <th>IsHoliday</th>\n",
              "    </tr>\n",
              "  </thead>\n",
              "  <tbody>\n",
              "    <tr>\n",
              "      <th>169</th>\n",
              "      <td>1</td>\n",
              "      <td>2013-03-05</td>\n",
              "      <td>66.66</td>\n",
              "      <td>3.386</td>\n",
              "      <td>2298.63</td>\n",
              "      <td>2.00</td>\n",
              "      <td>129.90</td>\n",
              "      <td>55.46</td>\n",
              "      <td>1301.04</td>\n",
              "      <td>NaN</td>\n",
              "      <td>NaN</td>\n",
              "      <td>False</td>\n",
              "    </tr>\n",
              "    <tr>\n",
              "      <th>170</th>\n",
              "      <td>1</td>\n",
              "      <td>2013-10-05</td>\n",
              "      <td>63.90</td>\n",
              "      <td>3.392</td>\n",
              "      <td>4624.61</td>\n",
              "      <td>83.88</td>\n",
              "      <td>42.38</td>\n",
              "      <td>1618.31</td>\n",
              "      <td>8144.90</td>\n",
              "      <td>NaN</td>\n",
              "      <td>NaN</td>\n",
              "      <td>False</td>\n",
              "    </tr>\n",
              "    <tr>\n",
              "      <th>171</th>\n",
              "      <td>1</td>\n",
              "      <td>2013-05-17</td>\n",
              "      <td>69.53</td>\n",
              "      <td>3.454</td>\n",
              "      <td>16170.50</td>\n",
              "      <td>92.00</td>\n",
              "      <td>8.32</td>\n",
              "      <td>4127.24</td>\n",
              "      <td>6206.97</td>\n",
              "      <td>NaN</td>\n",
              "      <td>NaN</td>\n",
              "      <td>False</td>\n",
              "    </tr>\n",
              "    <tr>\n",
              "      <th>172</th>\n",
              "      <td>1</td>\n",
              "      <td>2013-05-24</td>\n",
              "      <td>77.19</td>\n",
              "      <td>3.494</td>\n",
              "      <td>7959.89</td>\n",
              "      <td>178.00</td>\n",
              "      <td>1621.47</td>\n",
              "      <td>3152.57</td>\n",
              "      <td>2938.70</td>\n",
              "      <td>NaN</td>\n",
              "      <td>NaN</td>\n",
              "      <td>False</td>\n",
              "    </tr>\n",
              "    <tr>\n",
              "      <th>173</th>\n",
              "      <td>1</td>\n",
              "      <td>2013-05-31</td>\n",
              "      <td>78.02</td>\n",
              "      <td>3.466</td>\n",
              "      <td>2369.77</td>\n",
              "      <td>142.45</td>\n",
              "      <td>475.35</td>\n",
              "      <td>45.55</td>\n",
              "      <td>2056.84</td>\n",
              "      <td>NaN</td>\n",
              "      <td>NaN</td>\n",
              "      <td>False</td>\n",
              "    </tr>\n",
              "    <tr>\n",
              "      <th>...</th>\n",
              "      <td>...</td>\n",
              "      <td>...</td>\n",
              "      <td>...</td>\n",
              "      <td>...</td>\n",
              "      <td>...</td>\n",
              "      <td>...</td>\n",
              "      <td>...</td>\n",
              "      <td>...</td>\n",
              "      <td>...</td>\n",
              "      <td>...</td>\n",
              "      <td>...</td>\n",
              "      <td>...</td>\n",
              "    </tr>\n",
              "    <tr>\n",
              "      <th>8185</th>\n",
              "      <td>45</td>\n",
              "      <td>2013-06-28</td>\n",
              "      <td>76.05</td>\n",
              "      <td>3.639</td>\n",
              "      <td>4842.29</td>\n",
              "      <td>975.03</td>\n",
              "      <td>3.00</td>\n",
              "      <td>2449.97</td>\n",
              "      <td>3169.69</td>\n",
              "      <td>NaN</td>\n",
              "      <td>NaN</td>\n",
              "      <td>False</td>\n",
              "    </tr>\n",
              "    <tr>\n",
              "      <th>8186</th>\n",
              "      <td>45</td>\n",
              "      <td>2013-05-07</td>\n",
              "      <td>77.50</td>\n",
              "      <td>3.614</td>\n",
              "      <td>9090.48</td>\n",
              "      <td>2268.58</td>\n",
              "      <td>582.74</td>\n",
              "      <td>5797.47</td>\n",
              "      <td>1514.93</td>\n",
              "      <td>NaN</td>\n",
              "      <td>NaN</td>\n",
              "      <td>False</td>\n",
              "    </tr>\n",
              "    <tr>\n",
              "      <th>8187</th>\n",
              "      <td>45</td>\n",
              "      <td>2013-12-07</td>\n",
              "      <td>79.37</td>\n",
              "      <td>3.614</td>\n",
              "      <td>3789.94</td>\n",
              "      <td>1827.31</td>\n",
              "      <td>85.72</td>\n",
              "      <td>744.84</td>\n",
              "      <td>2150.36</td>\n",
              "      <td>NaN</td>\n",
              "      <td>NaN</td>\n",
              "      <td>False</td>\n",
              "    </tr>\n",
              "    <tr>\n",
              "      <th>8188</th>\n",
              "      <td>45</td>\n",
              "      <td>2013-07-19</td>\n",
              "      <td>82.84</td>\n",
              "      <td>3.737</td>\n",
              "      <td>2961.49</td>\n",
              "      <td>1047.07</td>\n",
              "      <td>204.19</td>\n",
              "      <td>363.00</td>\n",
              "      <td>1059.46</td>\n",
              "      <td>NaN</td>\n",
              "      <td>NaN</td>\n",
              "      <td>False</td>\n",
              "    </tr>\n",
              "    <tr>\n",
              "      <th>8189</th>\n",
              "      <td>45</td>\n",
              "      <td>2013-07-26</td>\n",
              "      <td>76.06</td>\n",
              "      <td>3.804</td>\n",
              "      <td>212.02</td>\n",
              "      <td>851.73</td>\n",
              "      <td>2.06</td>\n",
              "      <td>10.88</td>\n",
              "      <td>1864.57</td>\n",
              "      <td>NaN</td>\n",
              "      <td>NaN</td>\n",
              "      <td>False</td>\n",
              "    </tr>\n",
              "  </tbody>\n",
              "</table>\n",
              "<p>585 rows × 12 columns</p>\n",
              "</div>"
            ],
            "text/plain": [
              "      Store       Date  Temperature  Fuel_Price  MarkDown1  MarkDown2  \\\n",
              "169       1 2013-03-05        66.66       3.386    2298.63       2.00   \n",
              "170       1 2013-10-05        63.90       3.392    4624.61      83.88   \n",
              "171       1 2013-05-17        69.53       3.454   16170.50      92.00   \n",
              "172       1 2013-05-24        77.19       3.494    7959.89     178.00   \n",
              "173       1 2013-05-31        78.02       3.466    2369.77     142.45   \n",
              "...     ...        ...          ...         ...        ...        ...   \n",
              "8185     45 2013-06-28        76.05       3.639    4842.29     975.03   \n",
              "8186     45 2013-05-07        77.50       3.614    9090.48    2268.58   \n",
              "8187     45 2013-12-07        79.37       3.614    3789.94    1827.31   \n",
              "8188     45 2013-07-19        82.84       3.737    2961.49    1047.07   \n",
              "8189     45 2013-07-26        76.06       3.804     212.02     851.73   \n",
              "\n",
              "      MarkDown3  MarkDown4  MarkDown5  CPI  Unemployment  IsHoliday  \n",
              "169      129.90      55.46    1301.04  NaN           NaN      False  \n",
              "170       42.38    1618.31    8144.90  NaN           NaN      False  \n",
              "171        8.32    4127.24    6206.97  NaN           NaN      False  \n",
              "172     1621.47    3152.57    2938.70  NaN           NaN      False  \n",
              "173      475.35      45.55    2056.84  NaN           NaN      False  \n",
              "...         ...        ...        ...  ...           ...        ...  \n",
              "8185       3.00    2449.97    3169.69  NaN           NaN      False  \n",
              "8186     582.74    5797.47    1514.93  NaN           NaN      False  \n",
              "8187      85.72     744.84    2150.36  NaN           NaN      False  \n",
              "8188     204.19     363.00    1059.46  NaN           NaN      False  \n",
              "8189       2.06      10.88    1864.57  NaN           NaN      False  \n",
              "\n",
              "[585 rows x 12 columns]"
            ]
          },
          "execution_count": 12,
          "metadata": {},
          "output_type": "execute_result"
        }
      ],
      "source": [
        "df_features[df_features.CPI.isna()]"
      ]
    },
    {
      "cell_type": "markdown",
      "id": "maritime-nursing",
      "metadata": {
        "id": "maritime-nursing",
        "papermill": {
          "duration": 0.057969,
          "end_time": "2021-06-16T15:50:48.783241",
          "exception": false,
          "start_time": "2021-06-16T15:50:48.725272",
          "status": "completed"
        },
        "tags": []
      },
      "source": [
        "Not wise to impute in missing values for the markdown columns as they have a lot of missing values. Considering only about 5% of CPI and Unemployment values are missing, we can look to impute in the missing values."
      ]
    },
    {
      "cell_type": "code",
      "execution_count": null,
      "id": "interior-settlement",
      "metadata": {
        "execution": {
          "iopub.execute_input": "2021-06-16T15:50:48.885046Z",
          "iopub.status.busy": "2021-06-16T15:50:48.884485Z",
          "iopub.status.idle": "2021-06-16T15:50:49.199239Z",
          "shell.execute_reply": "2021-06-16T15:50:49.199668Z",
          "shell.execute_reply.started": "2021-06-16T15:49:59.440209Z"
        },
        "id": "interior-settlement",
        "papermill": {
          "duration": 0.365956,
          "end_time": "2021-06-16T15:50:49.199842",
          "exception": false,
          "start_time": "2021-06-16T15:50:48.833886",
          "status": "completed"
        },
        "tags": []
      },
      "outputs": [],
      "source": [
        "for i in range(1,46):\n",
        "  df_features[df_features.Store == i]= df_features[df_features.Store == i].interpolate()"
      ]
    },
    {
      "cell_type": "code",
      "execution_count": null,
      "id": "conceptual-posting",
      "metadata": {
        "execution": {
          "iopub.execute_input": "2021-06-16T15:50:49.297499Z",
          "iopub.status.busy": "2021-06-16T15:50:49.296970Z",
          "iopub.status.idle": "2021-06-16T15:50:49.441782Z",
          "shell.execute_reply": "2021-06-16T15:50:49.442287Z",
          "shell.execute_reply.started": "2021-06-16T15:49:59.770237Z"
        },
        "id": "conceptual-posting",
        "outputId": "9a5db68c-cade-49fa-b8c9-12f2fb03b974",
        "papermill": {
          "duration": 0.195145,
          "end_time": "2021-06-16T15:50:49.442456",
          "exception": false,
          "start_time": "2021-06-16T15:50:49.247311",
          "status": "completed"
        },
        "tags": []
      },
      "outputs": [
        {
          "data": {
            "image/png": "[encoded data removed]",
            "text/plain": [
              "<Figure size 432x288 with 1 Axes>"
            ]
          },
          "metadata": {
            "needs_background": "light"
          },
          "output_type": "display_data"
        }
      ],
      "source": [
        "df_features[df_features.Store == 20].CPI.plot();"
      ]
    },
    {
      "cell_type": "code",
      "execution_count": null,
      "id": "secret-journalism",
      "metadata": {
        "execution": {
          "iopub.execute_input": "2021-06-16T15:50:49.543382Z",
          "iopub.status.busy": "2021-06-16T15:50:49.542761Z",
          "iopub.status.idle": "2021-06-16T15:50:49.548800Z",
          "shell.execute_reply": "2021-06-16T15:50:49.549215Z",
          "shell.execute_reply.started": "2021-06-16T15:49:59.923529Z"
        },
        "id": "secret-journalism",
        "outputId": "bafa2358-331b-44b9-98d6-82e4e1ac8f77",
        "papermill": {
          "duration": 0.058847,
          "end_time": "2021-06-16T15:50:49.549368",
          "exception": false,
          "start_time": "2021-06-16T15:50:49.490521",
          "status": "completed"
        },
        "tags": []
      },
      "outputs": [
        {
          "data": {
            "text/plain": [
              "Store              0\n",
              "Date               0\n",
              "Temperature        0\n",
              "Fuel_Price         0\n",
              "MarkDown1       4140\n",
              "MarkDown2       4140\n",
              "MarkDown3       4143\n",
              "MarkDown4       4188\n",
              "MarkDown5       4140\n",
              "CPI                0\n",
              "Unemployment       0\n",
              "IsHoliday          0\n",
              "dtype: int64"
            ]
          },
          "execution_count": 15,
          "metadata": {},
          "output_type": "execute_result"
        }
      ],
      "source": [
        "df_features.isna().sum()"
      ]
    },
    {
      "cell_type": "code",
      "execution_count": null,
      "id": "public-communications",
      "metadata": {
        "execution": {
          "iopub.execute_input": "2021-06-16T15:50:49.652343Z",
          "iopub.status.busy": "2021-06-16T15:50:49.651307Z",
          "iopub.status.idle": "2021-06-16T15:50:49.656220Z",
          "shell.execute_reply": "2021-06-16T15:50:49.655688Z",
          "shell.execute_reply.started": "2021-06-16T15:49:59.932624Z"
        },
        "id": "public-communications",
        "papermill": {
          "duration": 0.058506,
          "end_time": "2021-06-16T15:50:49.656352",
          "exception": false,
          "start_time": "2021-06-16T15:50:49.597846",
          "status": "completed"
        },
        "tags": []
      },
      "outputs": [],
      "source": [
        "df_features[df_features.columns[4:9]] = df_features[df_features.columns[4:9]].fillna(0)"
      ]
    },
    {
      "cell_type": "code",
      "execution_count": null,
      "id": "fossil-casting",
      "metadata": {
        "execution": {
          "iopub.execute_input": "2021-06-16T15:50:49.758373Z",
          "iopub.status.busy": "2021-06-16T15:50:49.757805Z",
          "iopub.status.idle": "2021-06-16T15:50:49.764276Z",
          "shell.execute_reply": "2021-06-16T15:50:49.764779Z",
          "shell.execute_reply.started": "2021-06-16T15:49:59.947576Z"
        },
        "id": "fossil-casting",
        "outputId": "fec919cc-9c50-4256-b68b-32f0eb5fe55f",
        "papermill": {
          "duration": 0.059763,
          "end_time": "2021-06-16T15:50:49.764984",
          "exception": false,
          "start_time": "2021-06-16T15:50:49.705221",
          "status": "completed"
        },
        "tags": []
      },
      "outputs": [
        {
          "data": {
            "text/plain": [
              "Store           0\n",
              "Date            0\n",
              "Temperature     0\n",
              "Fuel_Price      0\n",
              "MarkDown1       0\n",
              "MarkDown2       0\n",
              "MarkDown3       0\n",
              "MarkDown4       0\n",
              "MarkDown5       0\n",
              "CPI             0\n",
              "Unemployment    0\n",
              "IsHoliday       0\n",
              "dtype: int64"
            ]
          },
          "execution_count": 17,
          "metadata": {},
          "output_type": "execute_result"
        }
      ],
      "source": [
        "df_features.isna().sum()"
      ]
    },
    {
      "cell_type": "code",
      "execution_count": null,
      "id": "annoying-occupation",
      "metadata": {
        "execution": {
          "iopub.execute_input": "2021-06-16T15:50:49.863865Z",
          "iopub.status.busy": "2021-06-16T15:50:49.863331Z",
          "iopub.status.idle": "2021-06-16T15:50:49.871189Z",
          "shell.execute_reply": "2021-06-16T15:50:49.871691Z",
          "shell.execute_reply.started": "2021-06-16T15:49:59.968527Z"
        },
        "id": "annoying-occupation",
        "outputId": "dd37f69a-f077-4a97-dc60-069a04f1e4e4",
        "papermill": {
          "duration": 0.058733,
          "end_time": "2021-06-16T15:50:49.871856",
          "exception": false,
          "start_time": "2021-06-16T15:50:49.813123",
          "status": "completed"
        },
        "scrolled": true,
        "tags": []
      },
      "outputs": [
        {
          "data": {
            "text/html": [
              "<div>\n",
              "<style scoped>\n",
              "    .dataframe tbody tr th:only-of-type {\n",
              "        vertical-align: middle;\n",
              "    }\n",
              "\n",
              "    .dataframe tbody tr th {\n",
              "        vertical-align: top;\n",
              "    }\n",
              "\n",
              "    .dataframe thead th {\n",
              "        text-align: right;\n",
              "    }\n",
              "</style>\n",
              "<table border=\"1\" class=\"dataframe\">\n",
              "  <thead>\n",
              "    <tr style=\"text-align: right;\">\n",
              "      <th></th>\n",
              "      <th>Store</th>\n",
              "      <th>Type</th>\n",
              "      <th>Size</th>\n",
              "    </tr>\n",
              "  </thead>\n",
              "  <tbody>\n",
              "    <tr>\n",
              "      <th>0</th>\n",
              "      <td>1</td>\n",
              "      <td>A</td>\n",
              "      <td>151315</td>\n",
              "    </tr>\n",
              "    <tr>\n",
              "      <th>1</th>\n",
              "      <td>2</td>\n",
              "      <td>A</td>\n",
              "      <td>202307</td>\n",
              "    </tr>\n",
              "    <tr>\n",
              "      <th>2</th>\n",
              "      <td>3</td>\n",
              "      <td>B</td>\n",
              "      <td>37392</td>\n",
              "    </tr>\n",
              "    <tr>\n",
              "      <th>3</th>\n",
              "      <td>4</td>\n",
              "      <td>A</td>\n",
              "      <td>205863</td>\n",
              "    </tr>\n",
              "    <tr>\n",
              "      <th>4</th>\n",
              "      <td>5</td>\n",
              "      <td>B</td>\n",
              "      <td>34875</td>\n",
              "    </tr>\n",
              "  </tbody>\n",
              "</table>\n",
              "</div>"
            ],
            "text/plain": [
              "   Store Type    Size\n",
              "0      1    A  151315\n",
              "1      2    A  202307\n",
              "2      3    B   37392\n",
              "3      4    A  205863\n",
              "4      5    B   34875"
            ]
          },
          "execution_count": 18,
          "metadata": {},
          "output_type": "execute_result"
        }
      ],
      "source": [
        "df_stores.head()"
      ]
    },
    {
      "cell_type": "markdown",
      "id": "commercial-cincinnati",
      "metadata": {
        "id": "commercial-cincinnati",
        "papermill": {
          "duration": 0.048294,
          "end_time": "2021-06-16T15:50:49.969017",
          "exception": false,
          "start_time": "2021-06-16T15:50:49.920723",
          "status": "completed"
        },
        "tags": []
      },
      "source": [
        "Merging features and sales on column columns (Date, Store and IsHoliday) coupled with a right join on sales. This is because sales has data till 2012 but features has data till 2013 so let's train our model on the data till 2012 and forecast the 2013 data."
      ]
    },
    {
      "cell_type": "code",
      "execution_count": null,
      "id": "prescribed-captain",
      "metadata": {
        "execution": {
          "iopub.execute_input": "2021-06-16T15:50:50.069210Z",
          "iopub.status.busy": "2021-06-16T15:50:50.068620Z",
          "iopub.status.idle": "2021-06-16T15:50:50.186596Z",
          "shell.execute_reply": "2021-06-16T15:50:50.186103Z",
          "shell.execute_reply.started": "2021-06-16T15:49:59.985549Z"
        },
        "id": "prescribed-captain",
        "papermill": {
          "duration": 0.169146,
          "end_time": "2021-06-16T15:50:50.186746",
          "exception": false,
          "start_time": "2021-06-16T15:50:50.017600",
          "status": "completed"
        },
        "tags": []
      },
      "outputs": [],
      "source": [
        "df_all_1 = df_features.merge(df_sales, 'right', on = ['Date', 'Store', 'IsHoliday'])"
      ]
    },
    {
      "cell_type": "code",
      "execution_count": null,
      "id": "retained-butter",
      "metadata": {
        "execution": {
          "iopub.execute_input": "2021-06-16T15:50:50.297674Z",
          "iopub.status.busy": "2021-06-16T15:50:50.292610Z",
          "iopub.status.idle": "2021-06-16T15:50:50.314973Z",
          "shell.execute_reply": "2021-06-16T15:50:50.315404Z",
          "shell.execute_reply.started": "2021-06-16T15:50:00.112926Z"
        },
        "id": "retained-butter",
        "outputId": "61acb1a8-ab45-4639-9c71-78e140dd641a",
        "papermill": {
          "duration": 0.079801,
          "end_time": "2021-06-16T15:50:50.315573",
          "exception": false,
          "start_time": "2021-06-16T15:50:50.235772",
          "status": "completed"
        },
        "scrolled": true,
        "tags": []
      },
      "outputs": [
        {
          "data": {
            "text/html": [
              "<div>\n",
              "<style scoped>\n",
              "    .dataframe tbody tr th:only-of-type {\n",
              "        vertical-align: middle;\n",
              "    }\n",
              "\n",
              "    .dataframe tbody tr th {\n",
              "        vertical-align: top;\n",
              "    }\n",
              "\n",
              "    .dataframe thead th {\n",
              "        text-align: right;\n",
              "    }\n",
              "</style>\n",
              "<table border=\"1\" class=\"dataframe\">\n",
              "  <thead>\n",
              "    <tr style=\"text-align: right;\">\n",
              "      <th></th>\n",
              "      <th>Store</th>\n",
              "      <th>Date</th>\n",
              "      <th>Temperature</th>\n",
              "      <th>Fuel_Price</th>\n",
              "      <th>MarkDown1</th>\n",
              "      <th>MarkDown2</th>\n",
              "      <th>MarkDown3</th>\n",
              "      <th>MarkDown4</th>\n",
              "      <th>MarkDown5</th>\n",
              "      <th>CPI</th>\n",
              "      <th>Unemployment</th>\n",
              "      <th>IsHoliday</th>\n",
              "      <th>Dept</th>\n",
              "      <th>Weekly_Sales</th>\n",
              "    </tr>\n",
              "  </thead>\n",
              "  <tbody>\n",
              "    <tr>\n",
              "      <th>0</th>\n",
              "      <td>1</td>\n",
              "      <td>2010-05-02</td>\n",
              "      <td>42.31</td>\n",
              "      <td>2.572</td>\n",
              "      <td>0.00</td>\n",
              "      <td>0.00</td>\n",
              "      <td>0.00</td>\n",
              "      <td>0.00</td>\n",
              "      <td>0.00</td>\n",
              "      <td>211.096358</td>\n",
              "      <td>8.106</td>\n",
              "      <td>False</td>\n",
              "      <td>1</td>\n",
              "      <td>24924.50</td>\n",
              "    </tr>\n",
              "    <tr>\n",
              "      <th>1</th>\n",
              "      <td>1</td>\n",
              "      <td>2010-12-02</td>\n",
              "      <td>38.51</td>\n",
              "      <td>2.548</td>\n",
              "      <td>0.00</td>\n",
              "      <td>0.00</td>\n",
              "      <td>0.00</td>\n",
              "      <td>0.00</td>\n",
              "      <td>0.00</td>\n",
              "      <td>211.242170</td>\n",
              "      <td>8.106</td>\n",
              "      <td>True</td>\n",
              "      <td>1</td>\n",
              "      <td>46039.49</td>\n",
              "    </tr>\n",
              "    <tr>\n",
              "      <th>2</th>\n",
              "      <td>1</td>\n",
              "      <td>2010-02-19</td>\n",
              "      <td>39.93</td>\n",
              "      <td>2.514</td>\n",
              "      <td>0.00</td>\n",
              "      <td>0.00</td>\n",
              "      <td>0.00</td>\n",
              "      <td>0.00</td>\n",
              "      <td>0.00</td>\n",
              "      <td>211.289143</td>\n",
              "      <td>8.106</td>\n",
              "      <td>False</td>\n",
              "      <td>1</td>\n",
              "      <td>41595.55</td>\n",
              "    </tr>\n",
              "    <tr>\n",
              "      <th>3</th>\n",
              "      <td>1</td>\n",
              "      <td>2010-02-26</td>\n",
              "      <td>46.63</td>\n",
              "      <td>2.561</td>\n",
              "      <td>0.00</td>\n",
              "      <td>0.00</td>\n",
              "      <td>0.00</td>\n",
              "      <td>0.00</td>\n",
              "      <td>0.00</td>\n",
              "      <td>211.319643</td>\n",
              "      <td>8.106</td>\n",
              "      <td>False</td>\n",
              "      <td>1</td>\n",
              "      <td>19403.54</td>\n",
              "    </tr>\n",
              "    <tr>\n",
              "      <th>4</th>\n",
              "      <td>1</td>\n",
              "      <td>2010-05-03</td>\n",
              "      <td>46.50</td>\n",
              "      <td>2.625</td>\n",
              "      <td>0.00</td>\n",
              "      <td>0.00</td>\n",
              "      <td>0.00</td>\n",
              "      <td>0.00</td>\n",
              "      <td>0.00</td>\n",
              "      <td>211.350143</td>\n",
              "      <td>8.106</td>\n",
              "      <td>False</td>\n",
              "      <td>1</td>\n",
              "      <td>21827.90</td>\n",
              "    </tr>\n",
              "    <tr>\n",
              "      <th>...</th>\n",
              "      <td>...</td>\n",
              "      <td>...</td>\n",
              "      <td>...</td>\n",
              "      <td>...</td>\n",
              "      <td>...</td>\n",
              "      <td>...</td>\n",
              "      <td>...</td>\n",
              "      <td>...</td>\n",
              "      <td>...</td>\n",
              "      <td>...</td>\n",
              "      <td>...</td>\n",
              "      <td>...</td>\n",
              "      <td>...</td>\n",
              "      <td>...</td>\n",
              "    </tr>\n",
              "    <tr>\n",
              "      <th>421565</th>\n",
              "      <td>45</td>\n",
              "      <td>2012-09-28</td>\n",
              "      <td>64.88</td>\n",
              "      <td>3.997</td>\n",
              "      <td>4556.61</td>\n",
              "      <td>20.64</td>\n",
              "      <td>1.50</td>\n",
              "      <td>1601.01</td>\n",
              "      <td>3288.25</td>\n",
              "      <td>192.013558</td>\n",
              "      <td>8.684</td>\n",
              "      <td>False</td>\n",
              "      <td>98</td>\n",
              "      <td>508.37</td>\n",
              "    </tr>\n",
              "    <tr>\n",
              "      <th>421566</th>\n",
              "      <td>45</td>\n",
              "      <td>2012-05-10</td>\n",
              "      <td>64.89</td>\n",
              "      <td>3.985</td>\n",
              "      <td>5046.74</td>\n",
              "      <td>30.00</td>\n",
              "      <td>18.82</td>\n",
              "      <td>2253.43</td>\n",
              "      <td>2340.01</td>\n",
              "      <td>192.170412</td>\n",
              "      <td>8.667</td>\n",
              "      <td>False</td>\n",
              "      <td>98</td>\n",
              "      <td>628.10</td>\n",
              "    </tr>\n",
              "    <tr>\n",
              "      <th>421567</th>\n",
              "      <td>45</td>\n",
              "      <td>2012-12-10</td>\n",
              "      <td>54.47</td>\n",
              "      <td>4.000</td>\n",
              "      <td>1956.28</td>\n",
              "      <td>39.36</td>\n",
              "      <td>7.89</td>\n",
              "      <td>599.32</td>\n",
              "      <td>3990.54</td>\n",
              "      <td>192.327265</td>\n",
              "      <td>8.667</td>\n",
              "      <td>False</td>\n",
              "      <td>98</td>\n",
              "      <td>1061.02</td>\n",
              "    </tr>\n",
              "    <tr>\n",
              "      <th>421568</th>\n",
              "      <td>45</td>\n",
              "      <td>2012-10-19</td>\n",
              "      <td>56.47</td>\n",
              "      <td>3.969</td>\n",
              "      <td>2004.02</td>\n",
              "      <td>48.72</td>\n",
              "      <td>3.18</td>\n",
              "      <td>437.73</td>\n",
              "      <td>1537.49</td>\n",
              "      <td>192.330854</td>\n",
              "      <td>8.667</td>\n",
              "      <td>False</td>\n",
              "      <td>98</td>\n",
              "      <td>760.01</td>\n",
              "    </tr>\n",
              "    <tr>\n",
              "      <th>421569</th>\n",
              "      <td>45</td>\n",
              "      <td>2012-10-26</td>\n",
              "      <td>58.85</td>\n",
              "      <td>3.882</td>\n",
              "      <td>4018.91</td>\n",
              "      <td>58.08</td>\n",
              "      <td>100.00</td>\n",
              "      <td>211.94</td>\n",
              "      <td>858.33</td>\n",
              "      <td>192.308899</td>\n",
              "      <td>8.667</td>\n",
              "      <td>False</td>\n",
              "      <td>98</td>\n",
              "      <td>1076.80</td>\n",
              "    </tr>\n",
              "  </tbody>\n",
              "</table>\n",
              "<p>421570 rows × 14 columns</p>\n",
              "</div>"
            ],
            "text/plain": [
              "        Store       Date  Temperature  Fuel_Price  MarkDown1  MarkDown2  \\\n",
              "0           1 2010-05-02        42.31       2.572       0.00       0.00   \n",
              "1           1 2010-12-02        38.51       2.548       0.00       0.00   \n",
              "2           1 2010-02-19        39.93       2.514       0.00       0.00   \n",
              "3           1 2010-02-26        46.63       2.561       0.00       0.00   \n",
              "4           1 2010-05-03        46.50       2.625       0.00       0.00   \n",
              "...       ...        ...          ...         ...        ...        ...   \n",
              "421565     45 2012-09-28        64.88       3.997    4556.61      20.64   \n",
              "421566     45 2012-05-10        64.89       3.985    5046.74      30.00   \n",
              "421567     45 2012-12-10        54.47       4.000    1956.28      39.36   \n",
              "421568     45 2012-10-19        56.47       3.969    2004.02      48.72   \n",
              "421569     45 2012-10-26        58.85       3.882    4018.91      58.08   \n",
              "\n",
              "        MarkDown3  MarkDown4  MarkDown5         CPI  Unemployment  IsHoliday  \\\n",
              "0            0.00       0.00       0.00  211.096358         8.106      False   \n",
              "1            0.00       0.00       0.00  211.242170         8.106       True   \n",
              "2            0.00       0.00       0.00  211.289143         8.106      False   \n",
              "3            0.00       0.00       0.00  211.319643         8.106      False   \n",
              "4            0.00       0.00       0.00  211.350143         8.106      False   \n",
              "...           ...        ...        ...         ...           ...        ...   \n",
              "421565       1.50    1601.01    3288.25  192.013558         8.684      False   \n",
              "421566      18.82    2253.43    2340.01  192.170412         8.667      False   \n",
              "421567       7.89     599.32    3990.54  192.327265         8.667      False   \n",
              "421568       3.18     437.73    1537.49  192.330854         8.667      False   \n",
              "421569     100.00     211.94     858.33  192.308899         8.667      False   \n",
              "\n",
              "        Dept  Weekly_Sales  \n",
              "0          1      24924.50  \n",
              "1          1      46039.49  \n",
              "2          1      41595.55  \n",
              "3          1      19403.54  \n",
              "4          1      21827.90  \n",
              "...      ...           ...  \n",
              "421565    98        508.37  \n",
              "421566    98        628.10  \n",
              "421567    98       1061.02  \n",
              "421568    98        760.01  \n",
              "421569    98       1076.80  \n",
              "\n",
              "[421570 rows x 14 columns]"
            ]
          },
          "execution_count": 20,
          "metadata": {},
          "output_type": "execute_result"
        }
      ],
      "source": [
        "df_all_1"
      ]
    },
    {
      "cell_type": "markdown",
      "id": "suburban-batch",
      "metadata": {
        "id": "suburban-batch",
        "papermill": {
          "duration": 0.049426,
          "end_time": "2021-06-16T15:50:50.414634",
          "exception": false,
          "start_time": "2021-06-16T15:50:50.365208",
          "status": "completed"
        },
        "tags": []
      },
      "source": [
        "Merging sales+features with stores"
      ]
    },
    {
      "cell_type": "code",
      "execution_count": null,
      "id": "heavy-german",
      "metadata": {
        "execution": {
          "iopub.execute_input": "2021-06-16T15:50:50.516254Z",
          "iopub.status.busy": "2021-06-16T15:50:50.515623Z",
          "iopub.status.idle": "2021-06-16T15:50:50.593370Z",
          "shell.execute_reply": "2021-06-16T15:50:50.593802Z",
          "shell.execute_reply.started": "2021-06-16T15:50:00.154323Z"
        },
        "id": "heavy-german",
        "papermill": {
          "duration": 0.130117,
          "end_time": "2021-06-16T15:50:50.593993",
          "exception": false,
          "start_time": "2021-06-16T15:50:50.463876",
          "status": "completed"
        },
        "tags": []
      },
      "outputs": [],
      "source": [
        "df_all = df_all_1.merge(df_stores, 'left', on = 'Store')"
      ]
    },
    {
      "cell_type": "code",
      "source": [
        "df_all=df_all.fillna(0)"
      ],
      "metadata": {
        "id": "yWPVwt8QG5_B"
      },
      "id": "yWPVwt8QG5_B",
      "execution_count": null,
      "outputs": []
    },
    {
      "cell_type": "code",
      "execution_count": null,
      "id": "bibliographic-occurrence",
      "metadata": {
        "execution": {
          "iopub.execute_input": "2021-06-16T15:50:50.695956Z",
          "iopub.status.busy": "2021-06-16T15:50:50.695363Z",
          "iopub.status.idle": "2021-06-16T15:50:50.856326Z",
          "shell.execute_reply": "2021-06-16T15:50:50.855763Z",
          "shell.execute_reply.started": "2021-06-16T15:50:00.242355Z"
        },
        "id": "bibliographic-occurrence",
        "papermill": {
          "duration": 0.212828,
          "end_time": "2021-06-16T15:50:50.856484",
          "exception": false,
          "start_time": "2021-06-16T15:50:50.643656",
          "status": "completed"
        },
        "scrolled": true,
        "tags": []
      },
      "outputs": [],
      "source": [
        "df_all = df_all.sort_values('Date')"
      ]
    },
    {
      "cell_type": "code",
      "execution_count": null,
      "id": "warming-bench",
      "metadata": {
        "execution": {
          "iopub.execute_input": "2021-06-16T15:50:50.961733Z",
          "iopub.status.busy": "2021-06-16T15:50:50.960826Z",
          "iopub.status.idle": "2021-06-16T15:50:50.964210Z",
          "shell.execute_reply": "2021-06-16T15:50:50.964717Z",
          "shell.execute_reply.started": "2021-06-16T15:50:00.389892Z"
        },
        "id": "warming-bench",
        "papermill": {
          "duration": 0.058243,
          "end_time": "2021-06-16T15:50:50.964870",
          "exception": false,
          "start_time": "2021-06-16T15:50:50.906627",
          "status": "completed"
        },
        "tags": []
      },
      "outputs": [],
      "source": [
        "df_all.reset_index(inplace = True)"
      ]
    },
    {
      "cell_type": "code",
      "execution_count": null,
      "id": "backed-organ",
      "metadata": {
        "execution": {
          "iopub.execute_input": "2021-06-16T15:50:51.066994Z",
          "iopub.status.busy": "2021-06-16T15:50:51.066108Z",
          "iopub.status.idle": "2021-06-16T15:50:51.100567Z",
          "shell.execute_reply": "2021-06-16T15:50:51.101052Z",
          "shell.execute_reply.started": "2021-06-16T15:50:00.401789Z"
        },
        "id": "backed-organ",
        "papermill": {
          "duration": 0.087155,
          "end_time": "2021-06-16T15:50:51.101219",
          "exception": false,
          "start_time": "2021-06-16T15:50:51.014064",
          "status": "completed"
        },
        "tags": []
      },
      "outputs": [],
      "source": [
        "df_all.drop(['index'], axis = 1, inplace = True)"
      ]
    },
    {
      "cell_type": "code",
      "execution_count": null,
      "id": "portable-demographic",
      "metadata": {
        "execution": {
          "iopub.execute_input": "2021-06-16T15:50:51.205223Z",
          "iopub.status.busy": "2021-06-16T15:50:51.204356Z",
          "iopub.status.idle": "2021-06-16T15:50:51.224806Z",
          "shell.execute_reply": "2021-06-16T15:50:51.224358Z",
          "shell.execute_reply.started": "2021-06-16T15:50:00.442545Z"
        },
        "id": "portable-demographic",
        "outputId": "b06f2c8b-ad03-4d36-cc69-6db278ed8e1c",
        "papermill": {
          "duration": 0.073697,
          "end_time": "2021-06-16T15:50:51.224965",
          "exception": false,
          "start_time": "2021-06-16T15:50:51.151268",
          "status": "completed"
        },
        "tags": []
      },
      "outputs": [
        {
          "data": {
            "text/html": [
              "<div>\n",
              "<style scoped>\n",
              "    .dataframe tbody tr th:only-of-type {\n",
              "        vertical-align: middle;\n",
              "    }\n",
              "\n",
              "    .dataframe tbody tr th {\n",
              "        vertical-align: top;\n",
              "    }\n",
              "\n",
              "    .dataframe thead th {\n",
              "        text-align: right;\n",
              "    }\n",
              "</style>\n",
              "<table border=\"1\" class=\"dataframe\">\n",
              "  <thead>\n",
              "    <tr style=\"text-align: right;\">\n",
              "      <th></th>\n",
              "      <th>Store</th>\n",
              "      <th>Date</th>\n",
              "      <th>Temperature</th>\n",
              "      <th>Fuel_Price</th>\n",
              "      <th>MarkDown1</th>\n",
              "      <th>MarkDown2</th>\n",
              "      <th>MarkDown3</th>\n",
              "      <th>MarkDown4</th>\n",
              "      <th>MarkDown5</th>\n",
              "      <th>CPI</th>\n",
              "      <th>Unemployment</th>\n",
              "      <th>IsHoliday</th>\n",
              "      <th>Dept</th>\n",
              "      <th>Weekly_Sales</th>\n",
              "      <th>Type</th>\n",
              "      <th>Size</th>\n",
              "    </tr>\n",
              "  </thead>\n",
              "  <tbody>\n",
              "    <tr>\n",
              "      <th>0</th>\n",
              "      <td>33</td>\n",
              "      <td>2010-01-10</td>\n",
              "      <td>91.45</td>\n",
              "      <td>3.001</td>\n",
              "      <td>0.0</td>\n",
              "      <td>0.0</td>\n",
              "      <td>0.0</td>\n",
              "      <td>0.0</td>\n",
              "      <td>0.0</td>\n",
              "      <td>126.234600</td>\n",
              "      <td>9.265</td>\n",
              "      <td>False</td>\n",
              "      <td>96</td>\n",
              "      <td>7854.09</td>\n",
              "      <td>A</td>\n",
              "      <td>39690</td>\n",
              "    </tr>\n",
              "    <tr>\n",
              "      <th>1</th>\n",
              "      <td>17</td>\n",
              "      <td>2010-01-10</td>\n",
              "      <td>60.07</td>\n",
              "      <td>2.853</td>\n",
              "      <td>0.0</td>\n",
              "      <td>0.0</td>\n",
              "      <td>0.0</td>\n",
              "      <td>0.0</td>\n",
              "      <td>0.0</td>\n",
              "      <td>126.234600</td>\n",
              "      <td>6.885</td>\n",
              "      <td>False</td>\n",
              "      <td>93</td>\n",
              "      <td>3533.76</td>\n",
              "      <td>B</td>\n",
              "      <td>93188</td>\n",
              "    </tr>\n",
              "    <tr>\n",
              "      <th>2</th>\n",
              "      <td>30</td>\n",
              "      <td>2010-01-10</td>\n",
              "      <td>70.28</td>\n",
              "      <td>2.603</td>\n",
              "      <td>0.0</td>\n",
              "      <td>0.0</td>\n",
              "      <td>0.0</td>\n",
              "      <td>0.0</td>\n",
              "      <td>0.0</td>\n",
              "      <td>211.329874</td>\n",
              "      <td>8.163</td>\n",
              "      <td>False</td>\n",
              "      <td>85</td>\n",
              "      <td>43.92</td>\n",
              "      <td>C</td>\n",
              "      <td>42988</td>\n",
              "    </tr>\n",
              "    <tr>\n",
              "      <th>3</th>\n",
              "      <td>30</td>\n",
              "      <td>2010-01-10</td>\n",
              "      <td>70.28</td>\n",
              "      <td>2.603</td>\n",
              "      <td>0.0</td>\n",
              "      <td>0.0</td>\n",
              "      <td>0.0</td>\n",
              "      <td>0.0</td>\n",
              "      <td>0.0</td>\n",
              "      <td>211.329874</td>\n",
              "      <td>8.163</td>\n",
              "      <td>False</td>\n",
              "      <td>87</td>\n",
              "      <td>119.80</td>\n",
              "      <td>C</td>\n",
              "      <td>42988</td>\n",
              "    </tr>\n",
              "    <tr>\n",
              "      <th>4</th>\n",
              "      <td>9</td>\n",
              "      <td>2010-01-10</td>\n",
              "      <td>69.08</td>\n",
              "      <td>2.603</td>\n",
              "      <td>0.0</td>\n",
              "      <td>0.0</td>\n",
              "      <td>0.0</td>\n",
              "      <td>0.0</td>\n",
              "      <td>0.0</td>\n",
              "      <td>215.214134</td>\n",
              "      <td>6.560</td>\n",
              "      <td>False</td>\n",
              "      <td>55</td>\n",
              "      <td>6795.58</td>\n",
              "      <td>B</td>\n",
              "      <td>125833</td>\n",
              "    </tr>\n",
              "  </tbody>\n",
              "</table>\n",
              "</div>"
            ],
            "text/plain": [
              "   Store       Date  Temperature  Fuel_Price  MarkDown1  MarkDown2  MarkDown3  \\\n",
              "0     33 2010-01-10        91.45       3.001        0.0        0.0        0.0   \n",
              "1     17 2010-01-10        60.07       2.853        0.0        0.0        0.0   \n",
              "2     30 2010-01-10        70.28       2.603        0.0        0.0        0.0   \n",
              "3     30 2010-01-10        70.28       2.603        0.0        0.0        0.0   \n",
              "4      9 2010-01-10        69.08       2.603        0.0        0.0        0.0   \n",
              "\n",
              "   MarkDown4  MarkDown5         CPI  Unemployment  IsHoliday  Dept  \\\n",
              "0        0.0        0.0  126.234600         9.265      False    96   \n",
              "1        0.0        0.0  126.234600         6.885      False    93   \n",
              "2        0.0        0.0  211.329874         8.163      False    85   \n",
              "3        0.0        0.0  211.329874         8.163      False    87   \n",
              "4        0.0        0.0  215.214134         6.560      False    55   \n",
              "\n",
              "   Weekly_Sales Type    Size  \n",
              "0       7854.09    A   39690  \n",
              "1       3533.76    B   93188  \n",
              "2         43.92    C   42988  \n",
              "3        119.80    C   42988  \n",
              "4       6795.58    B  125833  "
            ]
          },
          "execution_count": 25,
          "metadata": {},
          "output_type": "execute_result"
        }
      ],
      "source": [
        "df_all.head()"
      ]
    },
    {
      "cell_type": "code",
      "execution_count": null,
      "id": "biological-pixel",
      "metadata": {
        "execution": {
          "iopub.execute_input": "2021-06-16T15:50:51.343382Z",
          "iopub.status.busy": "2021-06-16T15:50:51.327840Z",
          "iopub.status.idle": "2021-06-16T15:50:51.535587Z",
          "shell.execute_reply": "2021-06-16T15:50:51.535095Z",
          "shell.execute_reply.started": "2021-06-16T15:50:00.472807Z"
        },
        "id": "biological-pixel",
        "outputId": "7b67b731-5c5d-4e39-c508-660301aa70d5",
        "papermill": {
          "duration": 0.260918,
          "end_time": "2021-06-16T15:50:51.535718",
          "exception": false,
          "start_time": "2021-06-16T15:50:51.274800",
          "status": "completed"
        },
        "tags": []
      },
      "outputs": [
        {
          "data": {
            "text/html": [
              "<div>\n",
              "<style scoped>\n",
              "    .dataframe tbody tr th:only-of-type {\n",
              "        vertical-align: middle;\n",
              "    }\n",
              "\n",
              "    .dataframe tbody tr th {\n",
              "        vertical-align: top;\n",
              "    }\n",
              "\n",
              "    .dataframe thead th {\n",
              "        text-align: right;\n",
              "    }\n",
              "</style>\n",
              "<table border=\"1\" class=\"dataframe\">\n",
              "  <thead>\n",
              "    <tr style=\"text-align: right;\">\n",
              "      <th></th>\n",
              "      <th>Store</th>\n",
              "      <th>Temperature</th>\n",
              "      <th>Fuel_Price</th>\n",
              "      <th>MarkDown1</th>\n",
              "      <th>MarkDown2</th>\n",
              "      <th>MarkDown3</th>\n",
              "      <th>MarkDown4</th>\n",
              "      <th>MarkDown5</th>\n",
              "      <th>CPI</th>\n",
              "      <th>Unemployment</th>\n",
              "      <th>Dept</th>\n",
              "      <th>Weekly_Sales</th>\n",
              "      <th>Size</th>\n",
              "    </tr>\n",
              "  </thead>\n",
              "  <tbody>\n",
              "    <tr>\n",
              "      <th>count</th>\n",
              "      <td>421570.000000</td>\n",
              "      <td>421570.000000</td>\n",
              "      <td>421570.000000</td>\n",
              "      <td>421570.000000</td>\n",
              "      <td>421570.000000</td>\n",
              "      <td>421570.000000</td>\n",
              "      <td>421570.000000</td>\n",
              "      <td>421570.000000</td>\n",
              "      <td>421570.000000</td>\n",
              "      <td>421570.000000</td>\n",
              "      <td>421570.000000</td>\n",
              "      <td>421570.000000</td>\n",
              "      <td>421570.000000</td>\n",
              "    </tr>\n",
              "    <tr>\n",
              "      <th>mean</th>\n",
              "      <td>22.200546</td>\n",
              "      <td>60.090059</td>\n",
              "      <td>3.361027</td>\n",
              "      <td>2590.392585</td>\n",
              "      <td>913.428550</td>\n",
              "      <td>468.814001</td>\n",
              "      <td>1086.569677</td>\n",
              "      <td>1662.772385</td>\n",
              "      <td>171.201947</td>\n",
              "      <td>7.960289</td>\n",
              "      <td>44.260317</td>\n",
              "      <td>15981.258123</td>\n",
              "      <td>136727.915739</td>\n",
              "    </tr>\n",
              "    <tr>\n",
              "      <th>std</th>\n",
              "      <td>12.785297</td>\n",
              "      <td>18.447931</td>\n",
              "      <td>0.458515</td>\n",
              "      <td>6052.257540</td>\n",
              "      <td>5086.843826</td>\n",
              "      <td>5528.817592</td>\n",
              "      <td>3894.194587</td>\n",
              "      <td>4207.629321</td>\n",
              "      <td>39.159276</td>\n",
              "      <td>1.863296</td>\n",
              "      <td>30.492054</td>\n",
              "      <td>22711.183519</td>\n",
              "      <td>60980.583328</td>\n",
              "    </tr>\n",
              "    <tr>\n",
              "      <th>min</th>\n",
              "      <td>1.000000</td>\n",
              "      <td>-2.060000</td>\n",
              "      <td>2.472000</td>\n",
              "      <td>0.000000</td>\n",
              "      <td>-265.760000</td>\n",
              "      <td>-29.100000</td>\n",
              "      <td>0.000000</td>\n",
              "      <td>0.000000</td>\n",
              "      <td>126.064000</td>\n",
              "      <td>3.879000</td>\n",
              "      <td>1.000000</td>\n",
              "      <td>-4988.940000</td>\n",
              "      <td>34875.000000</td>\n",
              "    </tr>\n",
              "    <tr>\n",
              "      <th>25%</th>\n",
              "      <td>11.000000</td>\n",
              "      <td>46.680000</td>\n",
              "      <td>2.933000</td>\n",
              "      <td>0.000000</td>\n",
              "      <td>0.000000</td>\n",
              "      <td>0.000000</td>\n",
              "      <td>0.000000</td>\n",
              "      <td>0.000000</td>\n",
              "      <td>132.022667</td>\n",
              "      <td>6.891000</td>\n",
              "      <td>18.000000</td>\n",
              "      <td>2079.650000</td>\n",
              "      <td>93638.000000</td>\n",
              "    </tr>\n",
              "    <tr>\n",
              "      <th>50%</th>\n",
              "      <td>22.000000</td>\n",
              "      <td>62.090000</td>\n",
              "      <td>3.452000</td>\n",
              "      <td>0.000000</td>\n",
              "      <td>0.000000</td>\n",
              "      <td>0.000000</td>\n",
              "      <td>0.000000</td>\n",
              "      <td>0.000000</td>\n",
              "      <td>182.318780</td>\n",
              "      <td>7.866000</td>\n",
              "      <td>37.000000</td>\n",
              "      <td>7612.030000</td>\n",
              "      <td>140167.000000</td>\n",
              "    </tr>\n",
              "    <tr>\n",
              "      <th>75%</th>\n",
              "      <td>33.000000</td>\n",
              "      <td>74.280000</td>\n",
              "      <td>3.738000</td>\n",
              "      <td>2809.050000</td>\n",
              "      <td>39.560000</td>\n",
              "      <td>6.500000</td>\n",
              "      <td>436.670000</td>\n",
              "      <td>2168.040000</td>\n",
              "      <td>212.416993</td>\n",
              "      <td>8.572000</td>\n",
              "      <td>74.000000</td>\n",
              "      <td>20205.852500</td>\n",
              "      <td>202505.000000</td>\n",
              "    </tr>\n",
              "    <tr>\n",
              "      <th>max</th>\n",
              "      <td>45.000000</td>\n",
              "      <td>100.140000</td>\n",
              "      <td>4.468000</td>\n",
              "      <td>88646.760000</td>\n",
              "      <td>104519.540000</td>\n",
              "      <td>141630.610000</td>\n",
              "      <td>67474.850000</td>\n",
              "      <td>108519.280000</td>\n",
              "      <td>227.232807</td>\n",
              "      <td>14.313000</td>\n",
              "      <td>99.000000</td>\n",
              "      <td>693099.360000</td>\n",
              "      <td>219622.000000</td>\n",
              "    </tr>\n",
              "  </tbody>\n",
              "</table>\n",
              "</div>"
            ],
            "text/plain": [
              "               Store    Temperature     Fuel_Price      MarkDown1  \\\n",
              "count  421570.000000  421570.000000  421570.000000  421570.000000   \n",
              "mean       22.200546      60.090059       3.361027    2590.392585   \n",
              "std        12.785297      18.447931       0.458515    6052.257540   \n",
              "min         1.000000      -2.060000       2.472000       0.000000   \n",
              "25%        11.000000      46.680000       2.933000       0.000000   \n",
              "50%        22.000000      62.090000       3.452000       0.000000   \n",
              "75%        33.000000      74.280000       3.738000    2809.050000   \n",
              "max        45.000000     100.140000       4.468000   88646.760000   \n",
              "\n",
              "           MarkDown2      MarkDown3      MarkDown4      MarkDown5  \\\n",
              "count  421570.000000  421570.000000  421570.000000  421570.000000   \n",
              "mean      913.428550     468.814001    1086.569677    1662.772385   \n",
              "std      5086.843826    5528.817592    3894.194587    4207.629321   \n",
              "min      -265.760000     -29.100000       0.000000       0.000000   \n",
              "25%         0.000000       0.000000       0.000000       0.000000   \n",
              "50%         0.000000       0.000000       0.000000       0.000000   \n",
              "75%        39.560000       6.500000     436.670000    2168.040000   \n",
              "max    104519.540000  141630.610000   67474.850000  108519.280000   \n",
              "\n",
              "                 CPI   Unemployment           Dept   Weekly_Sales  \\\n",
              "count  421570.000000  421570.000000  421570.000000  421570.000000   \n",
              "mean      171.201947       7.960289      44.260317   15981.258123   \n",
              "std        39.159276       1.863296      30.492054   22711.183519   \n",
              "min       126.064000       3.879000       1.000000   -4988.940000   \n",
              "25%       132.022667       6.891000      18.000000    2079.650000   \n",
              "50%       182.318780       7.866000      37.000000    7612.030000   \n",
              "75%       212.416993       8.572000      74.000000   20205.852500   \n",
              "max       227.232807      14.313000      99.000000  693099.360000   \n",
              "\n",
              "                Size  \n",
              "count  421570.000000  \n",
              "mean   136727.915739  \n",
              "std     60980.583328  \n",
              "min     34875.000000  \n",
              "25%     93638.000000  \n",
              "50%    140167.000000  \n",
              "75%    202505.000000  \n",
              "max    219622.000000  "
            ]
          },
          "execution_count": 26,
          "metadata": {},
          "output_type": "execute_result"
        }
      ],
      "source": [
        "df_all.describe()"
      ]
    },
    {
      "cell_type": "code",
      "execution_count": null,
      "id": "static-council",
      "metadata": {
        "execution": {
          "iopub.execute_input": "2021-06-16T15:50:51.643483Z",
          "iopub.status.busy": "2021-06-16T15:50:51.642424Z",
          "iopub.status.idle": "2021-06-16T15:50:51.682137Z",
          "shell.execute_reply": "2021-06-16T15:50:51.682581Z",
          "shell.execute_reply.started": "2021-06-16T15:50:00.694375Z"
        },
        "id": "static-council",
        "outputId": "729284ea-f13d-46fa-90e1-cc90d69c30de",
        "papermill": {
          "duration": 0.095579,
          "end_time": "2021-06-16T15:50:51.682745",
          "exception": false,
          "start_time": "2021-06-16T15:50:51.587166",
          "status": "completed"
        },
        "scrolled": true,
        "tags": []
      },
      "outputs": [
        {
          "name": "stdout",
          "output_type": "stream",
          "text": [
            "<class 'pandas.core.frame.DataFrame'>\n",
            "RangeIndex: 421570 entries, 0 to 421569\n",
            "Data columns (total 16 columns):\n",
            " #   Column        Non-Null Count   Dtype         \n",
            "---  ------        --------------   -----         \n",
            " 0   Store         421570 non-null  int64         \n",
            " 1   Date          421570 non-null  datetime64[ns]\n",
            " 2   Temperature   421570 non-null  float64       \n",
            " 3   Fuel_Price    421570 non-null  float64       \n",
            " 4   MarkDown1     421570 non-null  float64       \n",
            " 5   MarkDown2     421570 non-null  float64       \n",
            " 6   MarkDown3     421570 non-null  float64       \n",
            " 7   MarkDown4     421570 non-null  float64       \n",
            " 8   MarkDown5     421570 non-null  float64       \n",
            " 9   CPI           421570 non-null  float64       \n",
            " 10  Unemployment  421570 non-null  float64       \n",
            " 11  IsHoliday     421570 non-null  bool          \n",
            " 12  Dept          421570 non-null  int64         \n",
            " 13  Weekly_Sales  421570 non-null  float64       \n",
            " 14  Type          421570 non-null  object        \n",
            " 15  Size          421570 non-null  int64         \n",
            "dtypes: bool(1), datetime64[ns](1), float64(10), int64(3), object(1)\n",
            "memory usage: 48.6+ MB\n"
          ]
        }
      ],
      "source": [
        "df_all.info()"
      ]
    },
    {
      "cell_type": "code",
      "execution_count": null,
      "id": "loose-pattern",
      "metadata": {
        "execution": {
          "iopub.execute_input": "2021-06-16T15:50:51.787067Z",
          "iopub.status.busy": "2021-06-16T15:50:51.786507Z",
          "iopub.status.idle": "2021-06-16T15:50:51.805541Z",
          "shell.execute_reply": "2021-06-16T15:50:51.806021Z",
          "shell.execute_reply.started": "2021-06-16T15:50:00.764542Z"
        },
        "id": "loose-pattern",
        "papermill": {
          "duration": 0.072613,
          "end_time": "2021-06-16T15:50:51.806194",
          "exception": false,
          "start_time": "2021-06-16T15:50:51.733581",
          "status": "completed"
        },
        "tags": []
      },
      "outputs": [],
      "source": [
        "df_all_copy = df_all.copy()"
      ]
    },
    {
      "cell_type": "code",
      "execution_count": null,
      "id": "stunning-secretariat",
      "metadata": {
        "execution": {
          "iopub.execute_input": "2021-06-16T15:50:51.912808Z",
          "iopub.status.busy": "2021-06-16T15:50:51.912239Z",
          "iopub.status.idle": "2021-06-16T15:50:52.093692Z",
          "shell.execute_reply": "2021-06-16T15:50:52.094178Z",
          "shell.execute_reply.started": "2021-06-16T15:50:00.787124Z"
        },
        "id": "stunning-secretariat",
        "papermill": {
          "duration": 0.237106,
          "end_time": "2021-06-16T15:50:52.094345",
          "exception": false,
          "start_time": "2021-06-16T15:50:51.857239",
          "status": "completed"
        },
        "tags": []
      },
      "outputs": [],
      "source": [
        "mapping_dict = {'IsHoliday':{True:1, False:0}}\n",
        "df_all.replace(mapping_dict, inplace=True)\n",
        "mapping_dict_1 = {'Type':{'A':3, 'B':2, 'C':1}}\n",
        "df_all.replace(mapping_dict_1, inplace=True)"
      ]
    },
    {
      "cell_type": "code",
      "execution_count": null,
      "id": "sonic-money",
      "metadata": {
        "execution": {
          "iopub.execute_input": "2021-06-16T15:50:52.201276Z",
          "iopub.status.busy": "2021-06-16T15:50:52.200684Z",
          "iopub.status.idle": "2021-06-16T15:50:52.226948Z",
          "shell.execute_reply": "2021-06-16T15:50:52.227347Z",
          "shell.execute_reply.started": "2021-06-16T15:50:01.114513Z"
        },
        "id": "sonic-money",
        "outputId": "751d0cd8-6577-4f76-b77a-075a597f98e6",
        "papermill": {
          "duration": 0.080209,
          "end_time": "2021-06-16T15:50:52.227508",
          "exception": false,
          "start_time": "2021-06-16T15:50:52.147299",
          "status": "completed"
        },
        "scrolled": true,
        "tags": []
      },
      "outputs": [
        {
          "name": "stdout",
          "output_type": "stream",
          "text": [
            "<class 'pandas.core.frame.DataFrame'>\n",
            "RangeIndex: 421570 entries, 0 to 421569\n",
            "Data columns (total 16 columns):\n",
            " #   Column        Non-Null Count   Dtype         \n",
            "---  ------        --------------   -----         \n",
            " 0   Store         421570 non-null  int64         \n",
            " 1   Date          421570 non-null  datetime64[ns]\n",
            " 2   Temperature   421570 non-null  float64       \n",
            " 3   Fuel_Price    421570 non-null  float64       \n",
            " 4   MarkDown1     421570 non-null  float64       \n",
            " 5   MarkDown2     421570 non-null  float64       \n",
            " 6   MarkDown3     421570 non-null  float64       \n",
            " 7   MarkDown4     421570 non-null  float64       \n",
            " 8   MarkDown5     421570 non-null  float64       \n",
            " 9   CPI           421570 non-null  float64       \n",
            " 10  Unemployment  421570 non-null  float64       \n",
            " 11  IsHoliday     421570 non-null  int64         \n",
            " 12  Dept          421570 non-null  int64         \n",
            " 13  Weekly_Sales  421570 non-null  float64       \n",
            " 14  Type          421570 non-null  int64         \n",
            " 15  Size          421570 non-null  int64         \n",
            "dtypes: datetime64[ns](1), float64(10), int64(5)\n",
            "memory usage: 51.5 MB\n"
          ]
        }
      ],
      "source": [
        "df_all.info()"
      ]
    },
    {
      "cell_type": "code",
      "execution_count": null,
      "id": "relevant-interval",
      "metadata": {
        "execution": {
          "iopub.execute_input": "2021-06-16T15:50:52.349183Z",
          "iopub.status.busy": "2021-06-16T15:50:52.348603Z",
          "iopub.status.idle": "2021-06-16T15:50:52.351860Z",
          "shell.execute_reply": "2021-06-16T15:50:52.352309Z",
          "shell.execute_reply.started": "2021-06-16T15:50:01.146647Z"
        },
        "id": "relevant-interval",
        "outputId": "9450333e-e6d6-471b-ca8f-261539bf3705",
        "papermill": {
          "duration": 0.07363,
          "end_time": "2021-06-16T15:50:52.352468",
          "exception": false,
          "start_time": "2021-06-16T15:50:52.278838",
          "status": "completed"
        },
        "scrolled": true,
        "tags": []
      },
      "outputs": [
        {
          "data": {
            "text/html": [
              "<div>\n",
              "<style scoped>\n",
              "    .dataframe tbody tr th:only-of-type {\n",
              "        vertical-align: middle;\n",
              "    }\n",
              "\n",
              "    .dataframe tbody tr th {\n",
              "        vertical-align: top;\n",
              "    }\n",
              "\n",
              "    .dataframe thead th {\n",
              "        text-align: right;\n",
              "    }\n",
              "</style>\n",
              "<table border=\"1\" class=\"dataframe\">\n",
              "  <thead>\n",
              "    <tr style=\"text-align: right;\">\n",
              "      <th></th>\n",
              "      <th>Store</th>\n",
              "      <th>Date</th>\n",
              "      <th>Temperature</th>\n",
              "      <th>Fuel_Price</th>\n",
              "      <th>MarkDown1</th>\n",
              "      <th>MarkDown2</th>\n",
              "      <th>MarkDown3</th>\n",
              "      <th>MarkDown4</th>\n",
              "      <th>MarkDown5</th>\n",
              "      <th>CPI</th>\n",
              "      <th>Unemployment</th>\n",
              "      <th>IsHoliday</th>\n",
              "      <th>Dept</th>\n",
              "      <th>Weekly_Sales</th>\n",
              "      <th>Type</th>\n",
              "      <th>Size</th>\n",
              "    </tr>\n",
              "  </thead>\n",
              "  <tbody>\n",
              "    <tr>\n",
              "      <th>0</th>\n",
              "      <td>33</td>\n",
              "      <td>2010-01-10</td>\n",
              "      <td>91.45</td>\n",
              "      <td>3.001</td>\n",
              "      <td>0.0</td>\n",
              "      <td>0.0</td>\n",
              "      <td>0.0</td>\n",
              "      <td>0.0</td>\n",
              "      <td>0.0</td>\n",
              "      <td>126.234600</td>\n",
              "      <td>9.265</td>\n",
              "      <td>0</td>\n",
              "      <td>96</td>\n",
              "      <td>7854.09</td>\n",
              "      <td>3</td>\n",
              "      <td>39690</td>\n",
              "    </tr>\n",
              "    <tr>\n",
              "      <th>1</th>\n",
              "      <td>17</td>\n",
              "      <td>2010-01-10</td>\n",
              "      <td>60.07</td>\n",
              "      <td>2.853</td>\n",
              "      <td>0.0</td>\n",
              "      <td>0.0</td>\n",
              "      <td>0.0</td>\n",
              "      <td>0.0</td>\n",
              "      <td>0.0</td>\n",
              "      <td>126.234600</td>\n",
              "      <td>6.885</td>\n",
              "      <td>0</td>\n",
              "      <td>93</td>\n",
              "      <td>3533.76</td>\n",
              "      <td>2</td>\n",
              "      <td>93188</td>\n",
              "    </tr>\n",
              "    <tr>\n",
              "      <th>2</th>\n",
              "      <td>30</td>\n",
              "      <td>2010-01-10</td>\n",
              "      <td>70.28</td>\n",
              "      <td>2.603</td>\n",
              "      <td>0.0</td>\n",
              "      <td>0.0</td>\n",
              "      <td>0.0</td>\n",
              "      <td>0.0</td>\n",
              "      <td>0.0</td>\n",
              "      <td>211.329874</td>\n",
              "      <td>8.163</td>\n",
              "      <td>0</td>\n",
              "      <td>85</td>\n",
              "      <td>43.92</td>\n",
              "      <td>1</td>\n",
              "      <td>42988</td>\n",
              "    </tr>\n",
              "    <tr>\n",
              "      <th>3</th>\n",
              "      <td>30</td>\n",
              "      <td>2010-01-10</td>\n",
              "      <td>70.28</td>\n",
              "      <td>2.603</td>\n",
              "      <td>0.0</td>\n",
              "      <td>0.0</td>\n",
              "      <td>0.0</td>\n",
              "      <td>0.0</td>\n",
              "      <td>0.0</td>\n",
              "      <td>211.329874</td>\n",
              "      <td>8.163</td>\n",
              "      <td>0</td>\n",
              "      <td>87</td>\n",
              "      <td>119.80</td>\n",
              "      <td>1</td>\n",
              "      <td>42988</td>\n",
              "    </tr>\n",
              "    <tr>\n",
              "      <th>4</th>\n",
              "      <td>9</td>\n",
              "      <td>2010-01-10</td>\n",
              "      <td>69.08</td>\n",
              "      <td>2.603</td>\n",
              "      <td>0.0</td>\n",
              "      <td>0.0</td>\n",
              "      <td>0.0</td>\n",
              "      <td>0.0</td>\n",
              "      <td>0.0</td>\n",
              "      <td>215.214134</td>\n",
              "      <td>6.560</td>\n",
              "      <td>0</td>\n",
              "      <td>55</td>\n",
              "      <td>6795.58</td>\n",
              "      <td>2</td>\n",
              "      <td>125833</td>\n",
              "    </tr>\n",
              "  </tbody>\n",
              "</table>\n",
              "</div>"
            ],
            "text/plain": [
              "   Store       Date  Temperature  Fuel_Price  MarkDown1  MarkDown2  MarkDown3  \\\n",
              "0     33 2010-01-10        91.45       3.001        0.0        0.0        0.0   \n",
              "1     17 2010-01-10        60.07       2.853        0.0        0.0        0.0   \n",
              "2     30 2010-01-10        70.28       2.603        0.0        0.0        0.0   \n",
              "3     30 2010-01-10        70.28       2.603        0.0        0.0        0.0   \n",
              "4      9 2010-01-10        69.08       2.603        0.0        0.0        0.0   \n",
              "\n",
              "   MarkDown4  MarkDown5         CPI  Unemployment  IsHoliday  Dept  \\\n",
              "0        0.0        0.0  126.234600         9.265          0    96   \n",
              "1        0.0        0.0  126.234600         6.885          0    93   \n",
              "2        0.0        0.0  211.329874         8.163          0    85   \n",
              "3        0.0        0.0  211.329874         8.163          0    87   \n",
              "4        0.0        0.0  215.214134         6.560          0    55   \n",
              "\n",
              "   Weekly_Sales  Type    Size  \n",
              "0       7854.09     3   39690  \n",
              "1       3533.76     2   93188  \n",
              "2         43.92     1   42988  \n",
              "3        119.80     1   42988  \n",
              "4       6795.58     2  125833  "
            ]
          },
          "execution_count": 31,
          "metadata": {},
          "output_type": "execute_result"
        }
      ],
      "source": [
        "df_all.head()"
      ]
    },
    {
      "cell_type": "markdown",
      "id": "green-culture",
      "metadata": {
        "id": "green-culture",
        "papermill": {
          "duration": 0.051025,
          "end_time": "2021-06-16T15:50:52.454830",
          "exception": false,
          "start_time": "2021-06-16T15:50:52.403805",
          "status": "completed"
        },
        "tags": []
      },
      "source": [
        "# EDA"
      ]
    },
    {
      "cell_type": "markdown",
      "id": "twenty-cheese",
      "metadata": {
        "id": "twenty-cheese",
        "papermill": {
          "duration": 0.051069,
          "end_time": "2021-06-16T15:50:52.557815",
          "exception": false,
          "start_time": "2021-06-16T15:50:52.506746",
          "status": "completed"
        },
        "tags": []
      },
      "source": [
        "### Setting up for some time series analysis"
      ]
    },
    {
      "cell_type": "code",
      "execution_count": null,
      "id": "unable-excess",
      "metadata": {
        "execution": {
          "iopub.execute_input": "2021-06-16T15:50:52.664117Z",
          "iopub.status.busy": "2021-06-16T15:50:52.663517Z",
          "iopub.status.idle": "2021-06-16T15:50:52.690179Z",
          "shell.execute_reply": "2021-06-16T15:50:52.689671Z",
          "shell.execute_reply.started": "2021-06-16T15:50:01.174542Z"
        },
        "id": "unable-excess",
        "papermill": {
          "duration": 0.081072,
          "end_time": "2021-06-16T15:50:52.690326",
          "exception": false,
          "start_time": "2021-06-16T15:50:52.609254",
          "status": "completed"
        },
        "tags": []
      },
      "outputs": [],
      "source": [
        "df_by_date = df_all.groupby('Date', as_index=False).agg({'Temperature': 'mean',\n",
        "                                                        'Fuel_Price': 'mean',\n",
        "                                                        'CPI': 'mean',\n",
        "                                                        'Unemployment': 'mean',\n",
        "                                                        'Weekly_Sales': 'sum',\n",
        "                                                        'IsHoliday': 'mean'})"
      ]
    },
    {
      "cell_type": "code",
      "execution_count": null,
      "id": "incomplete-harmony",
      "metadata": {
        "execution": {
          "iopub.execute_input": "2021-06-16T15:50:52.800619Z",
          "iopub.status.busy": "2021-06-16T15:50:52.799951Z",
          "iopub.status.idle": "2021-06-16T15:50:52.802785Z",
          "shell.execute_reply": "2021-06-16T15:50:52.802216Z",
          "shell.execute_reply.started": "2021-06-16T15:50:01.208299Z"
        },
        "id": "incomplete-harmony",
        "papermill": {
          "duration": 0.060801,
          "end_time": "2021-06-16T15:50:52.802934",
          "exception": false,
          "start_time": "2021-06-16T15:50:52.742133",
          "status": "completed"
        },
        "tags": []
      },
      "outputs": [],
      "source": [
        "df_by_date.Date = pd.to_datetime(df_by_date.Date, errors='coerce')\n",
        "df_by_date.set_index('Date', inplace=True)"
      ]
    },
    {
      "cell_type": "code",
      "execution_count": null,
      "id": "cathedral-strand",
      "metadata": {
        "execution": {
          "iopub.execute_input": "2021-06-16T15:50:52.920287Z",
          "iopub.status.busy": "2021-06-16T15:50:52.919355Z",
          "iopub.status.idle": "2021-06-16T15:50:52.922883Z",
          "shell.execute_reply": "2021-06-16T15:50:52.923346Z",
          "shell.execute_reply.started": "2021-06-16T15:50:01.216656Z"
        },
        "id": "cathedral-strand",
        "outputId": "85f8b30f-a4dd-4cc1-f8ba-ebc61d187592",
        "papermill": {
          "duration": 0.068907,
          "end_time": "2021-06-16T15:50:52.923502",
          "exception": false,
          "start_time": "2021-06-16T15:50:52.854595",
          "status": "completed"
        },
        "tags": []
      },
      "outputs": [
        {
          "data": {
            "text/html": [
              "<div>\n",
              "<style scoped>\n",
              "    .dataframe tbody tr th:only-of-type {\n",
              "        vertical-align: middle;\n",
              "    }\n",
              "\n",
              "    .dataframe tbody tr th {\n",
              "        vertical-align: top;\n",
              "    }\n",
              "\n",
              "    .dataframe thead th {\n",
              "        text-align: right;\n",
              "    }\n",
              "</style>\n",
              "<table border=\"1\" class=\"dataframe\">\n",
              "  <thead>\n",
              "    <tr style=\"text-align: right;\">\n",
              "      <th></th>\n",
              "      <th>Temperature</th>\n",
              "      <th>Fuel_Price</th>\n",
              "      <th>CPI</th>\n",
              "      <th>Unemployment</th>\n",
              "      <th>Weekly_Sales</th>\n",
              "      <th>IsHoliday</th>\n",
              "    </tr>\n",
              "    <tr>\n",
              "      <th>Date</th>\n",
              "      <th></th>\n",
              "      <th></th>\n",
              "      <th></th>\n",
              "      <th></th>\n",
              "      <th></th>\n",
              "      <th></th>\n",
              "    </tr>\n",
              "  </thead>\n",
              "  <tbody>\n",
              "    <tr>\n",
              "      <th>2010-01-10</th>\n",
              "      <td>69.386998</td>\n",
              "      <td>2.733064</td>\n",
              "      <td>168.004935</td>\n",
              "      <td>8.433960</td>\n",
              "      <td>42239875.87</td>\n",
              "      <td>0</td>\n",
              "    </tr>\n",
              "    <tr>\n",
              "      <th>2010-02-04</th>\n",
              "      <td>52.587887</td>\n",
              "      <td>2.825453</td>\n",
              "      <td>167.377836</td>\n",
              "      <td>8.441092</td>\n",
              "      <td>50423831.26</td>\n",
              "      <td>0</td>\n",
              "    </tr>\n",
              "    <tr>\n",
              "      <th>2010-02-07</th>\n",
              "      <td>76.555955</td>\n",
              "      <td>2.793190</td>\n",
              "      <td>167.663264</td>\n",
              "      <td>8.373801</td>\n",
              "      <td>48917484.50</td>\n",
              "      <td>0</td>\n",
              "    </tr>\n",
              "    <tr>\n",
              "      <th>2010-02-19</th>\n",
              "      <td>37.038310</td>\n",
              "      <td>2.673666</td>\n",
              "      <td>167.338966</td>\n",
              "      <td>8.576351</td>\n",
              "      <td>48276993.78</td>\n",
              "      <td>0</td>\n",
              "    </tr>\n",
              "    <tr>\n",
              "      <th>2010-02-26</th>\n",
              "      <td>38.629563</td>\n",
              "      <td>2.685642</td>\n",
              "      <td>167.691019</td>\n",
              "      <td>8.561375</td>\n",
              "      <td>43968571.13</td>\n",
              "      <td>0</td>\n",
              "    </tr>\n",
              "  </tbody>\n",
              "</table>\n",
              "</div>"
            ],
            "text/plain": [
              "            Temperature  Fuel_Price         CPI  Unemployment  Weekly_Sales  \\\n",
              "Date                                                                          \n",
              "2010-01-10    69.386998    2.733064  168.004935      8.433960   42239875.87   \n",
              "2010-02-04    52.587887    2.825453  167.377836      8.441092   50423831.26   \n",
              "2010-02-07    76.555955    2.793190  167.663264      8.373801   48917484.50   \n",
              "2010-02-19    37.038310    2.673666  167.338966      8.576351   48276993.78   \n",
              "2010-02-26    38.629563    2.685642  167.691019      8.561375   43968571.13   \n",
              "\n",
              "            IsHoliday  \n",
              "Date                   \n",
              "2010-01-10          0  \n",
              "2010-02-04          0  \n",
              "2010-02-07          0  \n",
              "2010-02-19          0  \n",
              "2010-02-26          0  "
            ]
          },
          "execution_count": 34,
          "metadata": {},
          "output_type": "execute_result"
        }
      ],
      "source": [
        "df_by_date.head()"
      ]
    },
    {
      "cell_type": "markdown",
      "id": "hairy-dating",
      "metadata": {
        "id": "hairy-dating",
        "papermill": {
          "duration": 0.05143,
          "end_time": "2021-06-16T15:50:53.027031",
          "exception": false,
          "start_time": "2021-06-16T15:50:52.975601",
          "status": "completed"
        },
        "tags": []
      },
      "source": [
        "resampling (weekly, backfill) with some dummy dates in the middle as the above data doesn't have a definitive frequency"
      ]
    },
    {
      "cell_type": "code",
      "execution_count": null,
      "id": "aboriginal-maintenance",
      "metadata": {
        "execution": {
          "iopub.execute_input": "2021-06-16T15:50:53.136712Z",
          "iopub.status.busy": "2021-06-16T15:50:53.136149Z",
          "iopub.status.idle": "2021-06-16T15:50:53.154832Z",
          "shell.execute_reply": "2021-06-16T15:50:53.154294Z",
          "shell.execute_reply.started": "2021-06-16T15:50:01.243984Z"
        },
        "id": "aboriginal-maintenance",
        "papermill": {
          "duration": 0.07586,
          "end_time": "2021-06-16T15:50:53.154990",
          "exception": false,
          "start_time": "2021-06-16T15:50:53.079130",
          "status": "completed"
        },
        "tags": []
      },
      "outputs": [],
      "source": [
        "df_by_date_new = df_by_date.resample('W').mean().fillna(method='bfill')"
      ]
    },
    {
      "cell_type": "code",
      "execution_count": null,
      "id": "female-dependence",
      "metadata": {
        "execution": {
          "iopub.execute_input": "2021-06-16T15:50:53.273285Z",
          "iopub.status.busy": "2021-06-16T15:50:53.272437Z",
          "iopub.status.idle": "2021-06-16T15:50:53.276356Z",
          "shell.execute_reply": "2021-06-16T15:50:53.275778Z",
          "shell.execute_reply.started": "2021-06-16T15:50:01.283146Z"
        },
        "id": "female-dependence",
        "outputId": "9de11ba2-8e2e-41f5-b0fa-5d9cfa56b65a",
        "papermill": {
          "duration": 0.069468,
          "end_time": "2021-06-16T15:50:53.276482",
          "exception": false,
          "start_time": "2021-06-16T15:50:53.207014",
          "status": "completed"
        },
        "tags": []
      },
      "outputs": [
        {
          "data": {
            "text/html": [
              "<div>\n",
              "<style scoped>\n",
              "    .dataframe tbody tr th:only-of-type {\n",
              "        vertical-align: middle;\n",
              "    }\n",
              "\n",
              "    .dataframe tbody tr th {\n",
              "        vertical-align: top;\n",
              "    }\n",
              "\n",
              "    .dataframe thead th {\n",
              "        text-align: right;\n",
              "    }\n",
              "</style>\n",
              "<table border=\"1\" class=\"dataframe\">\n",
              "  <thead>\n",
              "    <tr style=\"text-align: right;\">\n",
              "      <th></th>\n",
              "      <th>Temperature</th>\n",
              "      <th>Fuel_Price</th>\n",
              "      <th>CPI</th>\n",
              "      <th>Unemployment</th>\n",
              "      <th>Weekly_Sales</th>\n",
              "      <th>IsHoliday</th>\n",
              "    </tr>\n",
              "    <tr>\n",
              "      <th>Date</th>\n",
              "      <th></th>\n",
              "      <th></th>\n",
              "      <th></th>\n",
              "      <th></th>\n",
              "      <th></th>\n",
              "      <th></th>\n",
              "    </tr>\n",
              "  </thead>\n",
              "  <tbody>\n",
              "    <tr>\n",
              "      <th>2010-01-10</th>\n",
              "      <td>69.386998</td>\n",
              "      <td>2.733064</td>\n",
              "      <td>168.004935</td>\n",
              "      <td>8.433960</td>\n",
              "      <td>4.223988e+07</td>\n",
              "      <td>0.0</td>\n",
              "    </tr>\n",
              "    <tr>\n",
              "      <th>2010-01-17</th>\n",
              "      <td>64.571921</td>\n",
              "      <td>2.809321</td>\n",
              "      <td>167.520550</td>\n",
              "      <td>8.407446</td>\n",
              "      <td>4.967066e+07</td>\n",
              "      <td>0.0</td>\n",
              "    </tr>\n",
              "    <tr>\n",
              "      <th>2010-01-24</th>\n",
              "      <td>64.571921</td>\n",
              "      <td>2.809321</td>\n",
              "      <td>167.520550</td>\n",
              "      <td>8.407446</td>\n",
              "      <td>4.967066e+07</td>\n",
              "      <td>0.0</td>\n",
              "    </tr>\n",
              "    <tr>\n",
              "      <th>2010-01-31</th>\n",
              "      <td>64.571921</td>\n",
              "      <td>2.809321</td>\n",
              "      <td>167.520550</td>\n",
              "      <td>8.407446</td>\n",
              "      <td>4.967066e+07</td>\n",
              "      <td>0.0</td>\n",
              "    </tr>\n",
              "    <tr>\n",
              "      <th>2010-02-07</th>\n",
              "      <td>64.571921</td>\n",
              "      <td>2.809321</td>\n",
              "      <td>167.520550</td>\n",
              "      <td>8.407446</td>\n",
              "      <td>4.967066e+07</td>\n",
              "      <td>0.0</td>\n",
              "    </tr>\n",
              "    <tr>\n",
              "      <th>2010-02-14</th>\n",
              "      <td>37.038310</td>\n",
              "      <td>2.673666</td>\n",
              "      <td>167.338966</td>\n",
              "      <td>8.576351</td>\n",
              "      <td>4.827699e+07</td>\n",
              "      <td>0.0</td>\n",
              "    </tr>\n",
              "    <tr>\n",
              "      <th>2010-02-21</th>\n",
              "      <td>37.038310</td>\n",
              "      <td>2.673666</td>\n",
              "      <td>167.338966</td>\n",
              "      <td>8.576351</td>\n",
              "      <td>4.827699e+07</td>\n",
              "      <td>0.0</td>\n",
              "    </tr>\n",
              "    <tr>\n",
              "      <th>2010-02-28</th>\n",
              "      <td>38.629563</td>\n",
              "      <td>2.685642</td>\n",
              "      <td>167.691019</td>\n",
              "      <td>8.561375</td>\n",
              "      <td>4.396857e+07</td>\n",
              "      <td>0.0</td>\n",
              "    </tr>\n",
              "    <tr>\n",
              "      <th>2010-03-07</th>\n",
              "      <td>58.629843</td>\n",
              "      <td>2.816753</td>\n",
              "      <td>167.988959</td>\n",
              "      <td>8.405245</td>\n",
              "      <td>4.855164e+07</td>\n",
              "      <td>0.0</td>\n",
              "    </tr>\n",
              "    <tr>\n",
              "      <th>2010-03-14</th>\n",
              "      <td>58.629843</td>\n",
              "      <td>2.816753</td>\n",
              "      <td>167.988959</td>\n",
              "      <td>8.405245</td>\n",
              "      <td>4.855164e+07</td>\n",
              "      <td>0.0</td>\n",
              "    </tr>\n",
              "  </tbody>\n",
              "</table>\n",
              "</div>"
            ],
            "text/plain": [
              "            Temperature  Fuel_Price         CPI  Unemployment  Weekly_Sales  \\\n",
              "Date                                                                          \n",
              "2010-01-10    69.386998    2.733064  168.004935      8.433960  4.223988e+07   \n",
              "2010-01-17    64.571921    2.809321  167.520550      8.407446  4.967066e+07   \n",
              "2010-01-24    64.571921    2.809321  167.520550      8.407446  4.967066e+07   \n",
              "2010-01-31    64.571921    2.809321  167.520550      8.407446  4.967066e+07   \n",
              "2010-02-07    64.571921    2.809321  167.520550      8.407446  4.967066e+07   \n",
              "2010-02-14    37.038310    2.673666  167.338966      8.576351  4.827699e+07   \n",
              "2010-02-21    37.038310    2.673666  167.338966      8.576351  4.827699e+07   \n",
              "2010-02-28    38.629563    2.685642  167.691019      8.561375  4.396857e+07   \n",
              "2010-03-07    58.629843    2.816753  167.988959      8.405245  4.855164e+07   \n",
              "2010-03-14    58.629843    2.816753  167.988959      8.405245  4.855164e+07   \n",
              "\n",
              "            IsHoliday  \n",
              "Date                   \n",
              "2010-01-10        0.0  \n",
              "2010-01-17        0.0  \n",
              "2010-01-24        0.0  \n",
              "2010-01-31        0.0  \n",
              "2010-02-07        0.0  \n",
              "2010-02-14        0.0  \n",
              "2010-02-21        0.0  \n",
              "2010-02-28        0.0  \n",
              "2010-03-07        0.0  \n",
              "2010-03-14        0.0  "
            ]
          },
          "execution_count": 36,
          "metadata": {},
          "output_type": "execute_result"
        }
      ],
      "source": [
        "df_by_date_new[0:10]"
      ]
    },
    {
      "cell_type": "markdown",
      "id": "protecting-reggae",
      "metadata": {
        "id": "protecting-reggae",
        "papermill": {
          "duration": 0.052261,
          "end_time": "2021-06-16T15:50:53.381662",
          "exception": false,
          "start_time": "2021-06-16T15:50:53.329401",
          "status": "completed"
        },
        "tags": []
      },
      "source": [
        "### Decomposing"
      ]
    },
    {
      "cell_type": "code",
      "execution_count": null,
      "id": "proper-parish",
      "metadata": {
        "execution": {
          "iopub.execute_input": "2021-06-16T15:50:53.490740Z",
          "iopub.status.busy": "2021-06-16T15:50:53.490117Z",
          "iopub.status.idle": "2021-06-16T15:50:53.573058Z",
          "shell.execute_reply": "2021-06-16T15:50:53.572476Z",
          "shell.execute_reply.started": "2021-06-16T15:50:01.304956Z"
        },
        "id": "proper-parish",
        "papermill": {
          "duration": 0.139168,
          "end_time": "2021-06-16T15:50:53.573195",
          "exception": false,
          "start_time": "2021-06-16T15:50:53.434027",
          "status": "completed"
        },
        "tags": []
      },
      "outputs": [],
      "source": [
        "from statsmodels.tsa.seasonal import seasonal_decompose"
      ]
    },
    {
      "cell_type": "markdown",
      "id": "accomplished-booking",
      "metadata": {
        "id": "accomplished-booking",
        "papermill": {
          "duration": 0.051914,
          "end_time": "2021-06-16T15:50:53.677772",
          "exception": false,
          "start_time": "2021-06-16T15:50:53.625858",
          "status": "completed"
        },
        "tags": []
      },
      "source": [
        "Seasonal Decompose gives the decomposition of the time series into its estimated trend component, estimated seasonal component, and estimated residual. We can also plot the original data to look at what components of the data influence its true value the most.  "
      ]
    },
    {
      "cell_type": "code",
      "execution_count": null,
      "id": "surgical-disease",
      "metadata": {
        "execution": {
          "iopub.execute_input": "2021-06-16T15:50:53.799559Z",
          "iopub.status.busy": "2021-06-16T15:50:53.798943Z",
          "iopub.status.idle": "2021-06-16T15:50:54.723296Z",
          "shell.execute_reply": "2021-06-16T15:50:54.723691Z",
          "shell.execute_reply.started": "2021-06-16T15:50:01.435786Z"
        },
        "id": "surgical-disease",
        "outputId": "17f4e8af-f1be-4276-8c8f-d012fe241da9",
        "papermill": {
          "duration": 0.993723,
          "end_time": "2021-06-16T15:50:54.723852",
          "exception": false,
          "start_time": "2021-06-16T15:50:53.730129",
          "status": "completed"
        },
        "tags": []
      },
      "outputs": [
        {
          "data": {
            "image/png": "[encoded data removed]",
            "text/plain": [
              "<Figure size 1440x360 with 1 Axes>"
            ]
          },
          "metadata": {
            "needs_background": "light"
          },
          "output_type": "display_data"
        },
        {
          "data": {
            "image/png": "[encoded data removed]",
            "text/plain": [
              "<Figure size 1440x360 with 1 Axes>"
            ]
          },
          "metadata": {
            "needs_background": "light"
          },
          "output_type": "display_data"
        },
        {
          "data": {
            "image/png": "[encoded data removed]",
            "text/plain": [
              "<Figure size 1440x360 with 1 Axes>"
            ]
          },
          "metadata": {
            "needs_background": "light"
          },
          "output_type": "display_data"
        },
        {
          "data": {
            "image/png": "[encoded data removed]",
            "text/plain": [
              "<Figure size 1440x360 with 1 Axes>"
            ]
          },
          "metadata": {
            "needs_background": "light"
          },
          "output_type": "display_data"
        }
      ],
      "source": [
        "multi_plot = seasonal_decompose(df_by_date_new['Weekly_Sales'], model = 'add', extrapolate_trend='freq')\n",
        "\n",
        "plt.figure(figsize=(20,5))\n",
        "multi_plot.observed.plot(title = 'weekly sales')\n",
        "\n",
        "plt.figure(figsize=(20,5))\n",
        "multi_plot.trend.plot(title = 'trend')\n",
        "\n",
        "plt.figure(figsize=(20,5))\n",
        "multi_plot.seasonal.plot(title = 'seasonal')\n",
        "\n",
        "plt.figure(figsize=(20,5))\n",
        "multi_plot.resid.plot(title = 'residual');"
      ]
    },
    {
      "cell_type": "markdown",
      "id": "located-preparation",
      "metadata": {
        "id": "located-preparation",
        "papermill": {
          "duration": 0.057826,
          "end_time": "2021-06-16T15:50:54.840820",
          "exception": false,
          "start_time": "2021-06-16T15:50:54.782994",
          "status": "completed"
        },
        "tags": []
      },
      "source": [
        "As it can be observed, the series is strongly influenced by the seasonal component"
      ]
    },
    {
      "cell_type": "markdown",
      "id": "universal-ethnic",
      "metadata": {
        "id": "universal-ethnic",
        "papermill": {
          "duration": 0.057685,
          "end_time": "2021-06-16T15:50:54.958217",
          "exception": false,
          "start_time": "2021-06-16T15:50:54.900532",
          "status": "completed"
        },
        "tags": []
      },
      "source": [
        "### Correlations"
      ]
    },
    {
      "cell_type": "code",
      "execution_count": null,
      "id": "patient-listening",
      "metadata": {
        "execution": {
          "iopub.execute_input": "2021-06-16T15:50:55.078826Z",
          "iopub.status.busy": "2021-06-16T15:50:55.078283Z",
          "iopub.status.idle": "2021-06-16T15:50:55.545361Z",
          "shell.execute_reply": "2021-06-16T15:50:55.544790Z",
          "shell.execute_reply.started": "2021-06-16T15:50:02.730631Z"
        },
        "id": "patient-listening",
        "outputId": "1a491e4a-8ed5-4057-809f-ae40022d1e89",
        "papermill": {
          "duration": 0.529369,
          "end_time": "2021-06-16T15:50:55.545493",
          "exception": false,
          "start_time": "2021-06-16T15:50:55.016124",
          "status": "completed"
        },
        "tags": []
      },
      "outputs": [
        {
          "data": {
            "image/png": "[encoded data removed]",
            "text/plain": [
              "<Figure size 1080x576 with 2 Axes>"
            ]
          },
          "metadata": {
            "needs_background": "light"
          },
          "output_type": "display_data"
        }
      ],
      "source": [
        "plt.figure(figsize=(15,8))\n",
        "sns.heatmap(df_by_date_new.corr('spearman'), annot = True);"
      ]
    },
    {
      "cell_type": "markdown",
      "id": "convenient-attack",
      "metadata": {
        "id": "convenient-attack",
        "papermill": {
          "duration": 0.059263,
          "end_time": "2021-06-16T15:50:55.664373",
          "exception": false,
          "start_time": "2021-06-16T15:50:55.605110",
          "status": "completed"
        },
        "tags": []
      },
      "source": [
        "strong +ve correlation b/w Fuel_Price and CPI and strong -ve correlations b/w Unmeployment and Fuel_Price and Unemployment and CPI. surprisingly, unemployment rate doesn't really seem to affect the weekly sales (directly at least)"
      ]
    },
    {
      "cell_type": "markdown",
      "id": "cardiovascular-ukraine",
      "metadata": {
        "id": "cardiovascular-ukraine",
        "papermill": {
          "duration": 0.059177,
          "end_time": "2021-06-16T15:50:55.782948",
          "exception": false,
          "start_time": "2021-06-16T15:50:55.723771",
          "status": "completed"
        },
        "tags": []
      },
      "source": [
        "### Holiday weeks"
      ]
    },
    {
      "cell_type": "code",
      "execution_count": null,
      "id": "white-edition",
      "metadata": {
        "execution": {
          "iopub.execute_input": "2021-06-16T15:50:55.923264Z",
          "iopub.status.busy": "2021-06-16T15:50:55.922392Z",
          "iopub.status.idle": "2021-06-16T15:50:56.037512Z",
          "shell.execute_reply": "2021-06-16T15:50:56.037076Z",
          "shell.execute_reply.started": "2021-06-16T15:50:03.108432Z"
        },
        "id": "white-edition",
        "outputId": "e702cc25-0ef6-4d57-ecc6-9687c2aed679",
        "papermill": {
          "duration": 0.195218,
          "end_time": "2021-06-16T15:50:56.037639",
          "exception": false,
          "start_time": "2021-06-16T15:50:55.842421",
          "status": "completed"
        },
        "tags": []
      },
      "outputs": [
        {
          "data": {
            "image/png": "[encoded data removed]",
            "text/plain": [
              "<Figure size 1080x576 with 1 Axes>"
            ]
          },
          "metadata": {
            "needs_background": "light"
          },
          "output_type": "display_data"
        }
      ],
      "source": [
        "plt.figure(figsize=(15,8))\n",
        "sns.boxplot(data = df_by_date, x = 'IsHoliday', y = 'Weekly_Sales');"
      ]
    },
    {
      "cell_type": "markdown",
      "id": "fiscal-fields",
      "metadata": {
        "id": "fiscal-fields",
        "papermill": {
          "duration": 0.060793,
          "end_time": "2021-06-16T15:50:56.158389",
          "exception": false,
          "start_time": "2021-06-16T15:50:56.097596",
          "status": "completed"
        },
        "tags": []
      },
      "source": [
        "holiday weeks don't necessarily mean that the weekly sales go up but it is often the case"
      ]
    },
    {
      "cell_type": "markdown",
      "id": "homeless-improvement",
      "metadata": {
        "id": "homeless-improvement",
        "papermill": {
          "duration": 0.060985,
          "end_time": "2021-06-16T15:50:56.280319",
          "exception": false,
          "start_time": "2021-06-16T15:50:56.219334",
          "status": "completed"
        },
        "tags": []
      },
      "source": [
        "###Analysis by store"
      ]
    },
    {
      "cell_type": "code",
      "execution_count": null,
      "id": "handy-underground",
      "metadata": {
        "execution": {
          "iopub.execute_input": "2021-06-16T15:50:56.408090Z",
          "iopub.status.busy": "2021-06-16T15:50:56.407504Z",
          "iopub.status.idle": "2021-06-16T15:50:56.434641Z",
          "shell.execute_reply": "2021-06-16T15:50:56.434138Z",
          "shell.execute_reply.started": "2021-06-16T15:50:03.267766Z"
        },
        "id": "handy-underground",
        "papermill": {
          "duration": 0.093608,
          "end_time": "2021-06-16T15:50:56.434774",
          "exception": false,
          "start_time": "2021-06-16T15:50:56.341166",
          "status": "completed"
        },
        "tags": []
      },
      "outputs": [],
      "source": [
        "df_by_store = df_all.groupby('Store').agg({'Temperature': 'mean',\n",
        "                                           'Fuel_Price': 'mean',\n",
        "                                           'CPI': 'mean',\n",
        "                                           'Unemployment': 'mean',\n",
        "                                           'Weekly_Sales': 'sum',\n",
        "                                           'IsHoliday': 'mean',\n",
        "                                           'Type': 'max'})"
      ]
    },
    {
      "cell_type": "code",
      "execution_count": null,
      "id": "pointed-relief",
      "metadata": {
        "execution": {
          "iopub.execute_input": "2021-06-16T15:50:56.561574Z",
          "iopub.status.busy": "2021-06-16T15:50:56.561029Z",
          "iopub.status.idle": "2021-06-16T15:50:56.583623Z",
          "shell.execute_reply": "2021-06-16T15:50:56.584174Z",
          "shell.execute_reply.started": "2021-06-16T15:50:03.305254Z"
        },
        "id": "pointed-relief",
        "outputId": "df637bea-396a-45fd-d035-2135baa1807d",
        "papermill": {
          "duration": 0.089019,
          "end_time": "2021-06-16T15:50:56.584334",
          "exception": false,
          "start_time": "2021-06-16T15:50:56.495315",
          "status": "completed"
        },
        "tags": []
      },
      "outputs": [
        {
          "data": {
            "text/html": [
              "<div>\n",
              "<style scoped>\n",
              "    .dataframe tbody tr th:only-of-type {\n",
              "        vertical-align: middle;\n",
              "    }\n",
              "\n",
              "    .dataframe tbody tr th {\n",
              "        vertical-align: top;\n",
              "    }\n",
              "\n",
              "    .dataframe thead th {\n",
              "        text-align: right;\n",
              "    }\n",
              "</style>\n",
              "<table border=\"1\" class=\"dataframe\">\n",
              "  <thead>\n",
              "    <tr style=\"text-align: right;\">\n",
              "      <th></th>\n",
              "      <th>Temperature</th>\n",
              "      <th>Fuel_Price</th>\n",
              "      <th>CPI</th>\n",
              "      <th>Unemployment</th>\n",
              "      <th>Weekly_Sales</th>\n",
              "      <th>IsHoliday</th>\n",
              "      <th>Type</th>\n",
              "    </tr>\n",
              "  </thead>\n",
              "  <tbody>\n",
              "    <tr>\n",
              "      <th>count</th>\n",
              "      <td>45.000000</td>\n",
              "      <td>45.000000</td>\n",
              "      <td>45.000000</td>\n",
              "      <td>45.000000</td>\n",
              "      <td>4.500000e+01</td>\n",
              "      <td>45.000000</td>\n",
              "      <td>45.000000</td>\n",
              "    </tr>\n",
              "    <tr>\n",
              "      <th>mean</th>\n",
              "      <td>60.620223</td>\n",
              "      <td>3.360718</td>\n",
              "      <td>171.595976</td>\n",
              "      <td>7.995321</td>\n",
              "      <td>1.497160e+08</td>\n",
              "      <td>0.070326</td>\n",
              "      <td>2.355556</td>\n",
              "    </tr>\n",
              "    <tr>\n",
              "      <th>std</th>\n",
              "      <td>9.806327</td>\n",
              "      <td>0.150153</td>\n",
              "      <td>39.664650</td>\n",
              "      <td>1.786202</td>\n",
              "      <td>7.816756e+07</td>\n",
              "      <td>0.000439</td>\n",
              "      <td>0.712089</td>\n",
              "    </tr>\n",
              "    <tr>\n",
              "      <th>min</th>\n",
              "      <td>39.602815</td>\n",
              "      <td>3.210664</td>\n",
              "      <td>128.663519</td>\n",
              "      <td>4.793244</td>\n",
              "      <td>3.716022e+07</td>\n",
              "      <td>0.069248</td>\n",
              "      <td>1.000000</td>\n",
              "    </tr>\n",
              "    <tr>\n",
              "      <th>25%</th>\n",
              "      <td>53.291597</td>\n",
              "      <td>3.220912</td>\n",
              "      <td>135.087130</td>\n",
              "      <td>7.004905</td>\n",
              "      <td>7.956575e+07</td>\n",
              "      <td>0.070050</td>\n",
              "      <td>2.000000</td>\n",
              "    </tr>\n",
              "    <tr>\n",
              "      <th>50%</th>\n",
              "      <td>58.413297</td>\n",
              "      <td>3.288495</td>\n",
              "      <td>186.287850</td>\n",
              "      <td>7.860290</td>\n",
              "      <td>1.382498e+08</td>\n",
              "      <td>0.070376</td>\n",
              "      <td>2.000000</td>\n",
              "    </tr>\n",
              "    <tr>\n",
              "      <th>75%</th>\n",
              "      <td>69.639935</td>\n",
              "      <td>3.443894</td>\n",
              "      <td>214.872865</td>\n",
              "      <td>8.585175</td>\n",
              "      <td>1.996139e+08</td>\n",
              "      <td>0.070598</td>\n",
              "      <td>3.000000</td>\n",
              "    </tr>\n",
              "    <tr>\n",
              "      <th>max</th>\n",
              "      <td>76.798159</td>\n",
              "      <td>3.617363</td>\n",
              "      <td>219.683641</td>\n",
              "      <td>13.116094</td>\n",
              "      <td>3.013978e+08</td>\n",
              "      <td>0.071270</td>\n",
              "      <td>3.000000</td>\n",
              "    </tr>\n",
              "  </tbody>\n",
              "</table>\n",
              "</div>"
            ],
            "text/plain": [
              "       Temperature  Fuel_Price         CPI  Unemployment  Weekly_Sales  \\\n",
              "count    45.000000   45.000000   45.000000     45.000000  4.500000e+01   \n",
              "mean     60.620223    3.360718  171.595976      7.995321  1.497160e+08   \n",
              "std       9.806327    0.150153   39.664650      1.786202  7.816756e+07   \n",
              "min      39.602815    3.210664  128.663519      4.793244  3.716022e+07   \n",
              "25%      53.291597    3.220912  135.087130      7.004905  7.956575e+07   \n",
              "50%      58.413297    3.288495  186.287850      7.860290  1.382498e+08   \n",
              "75%      69.639935    3.443894  214.872865      8.585175  1.996139e+08   \n",
              "max      76.798159    3.617363  219.683641     13.116094  3.013978e+08   \n",
              "\n",
              "       IsHoliday       Type  \n",
              "count  45.000000  45.000000  \n",
              "mean    0.070326   2.355556  \n",
              "std     0.000439   0.712089  \n",
              "min     0.069248   1.000000  \n",
              "25%     0.070050   2.000000  \n",
              "50%     0.070376   2.000000  \n",
              "75%     0.070598   3.000000  \n",
              "max     0.071270   3.000000  "
            ]
          },
          "execution_count": 42,
          "metadata": {},
          "output_type": "execute_result"
        }
      ],
      "source": [
        "df_by_store.describe()"
      ]
    },
    {
      "cell_type": "code",
      "execution_count": null,
      "id": "lined-presentation",
      "metadata": {
        "execution": {
          "iopub.execute_input": "2021-06-16T15:50:56.707274Z",
          "iopub.status.busy": "2021-06-16T15:50:56.706693Z",
          "iopub.status.idle": "2021-06-16T15:50:56.943509Z",
          "shell.execute_reply": "2021-06-16T15:50:56.943984Z",
          "shell.execute_reply.started": "2021-06-16T15:50:03.343394Z"
        },
        "id": "lined-presentation",
        "outputId": "adb435fc-95b8-41ed-f405-300e853112ce",
        "papermill": {
          "duration": 0.299657,
          "end_time": "2021-06-16T15:50:56.944144",
          "exception": false,
          "start_time": "2021-06-16T15:50:56.644487",
          "status": "completed"
        },
        "tags": []
      },
      "outputs": [
        {
          "data": {
            "image/png": "[encoded data removed]",
            "text/plain": [
              "<Figure size 1080x576 with 1 Axes>"
            ]
          },
          "metadata": {
            "needs_background": "light"
          },
          "output_type": "display_data"
        }
      ],
      "source": [
        "plt.figure(figsize=(15,8))\n",
        "sns.boxplot(data = df_by_store, x = 'Type', y = 'Weekly_Sales')\n",
        "plt.tight_layout()"
      ]
    },
    {
      "cell_type": "markdown",
      "id": "departmental-robinson",
      "metadata": {
        "id": "departmental-robinson",
        "papermill": {
          "duration": 0.060408,
          "end_time": "2021-06-16T15:50:57.065268",
          "exception": false,
          "start_time": "2021-06-16T15:50:57.004860",
          "status": "completed"
        },
        "tags": []
      },
      "source": [
        "###Net sales (monthly)"
      ]
    },
    {
      "cell_type": "code",
      "execution_count": null,
      "id": "previous-resource",
      "metadata": {
        "execution": {
          "iopub.execute_input": "2021-06-16T15:50:57.190410Z",
          "iopub.status.busy": "2021-06-16T15:50:57.189736Z",
          "iopub.status.idle": "2021-06-16T15:50:57.424550Z",
          "shell.execute_reply": "2021-06-16T15:50:57.425105Z",
          "shell.execute_reply.started": "2021-06-16T15:50:03.570715Z"
        },
        "id": "previous-resource",
        "outputId": "9391b8cc-34e5-452d-e5c1-28d8dbad09de",
        "papermill": {
          "duration": 0.298891,
          "end_time": "2021-06-16T15:50:57.425270",
          "exception": false,
          "start_time": "2021-06-16T15:50:57.126379",
          "status": "completed"
        },
        "tags": []
      },
      "outputs": [
        {
          "data": {
            "image/png": "[encoded data removed]",
            "text/plain": [
              "<Figure size 1080x576 with 1 Axes>"
            ]
          },
          "metadata": {
            "needs_background": "light"
          },
          "output_type": "display_data"
        }
      ],
      "source": [
        "monthly_sales = df_all.groupby(df_all.Date.dt.month).agg({'Weekly_Sales':'sum'})\n",
        "plt.figure(figsize = (15,8))\n",
        "sns.barplot(x = monthly_sales.index, y = monthly_sales.Weekly_Sales);"
      ]
    },
    {
      "cell_type": "markdown",
      "id": "elect-shirt",
      "metadata": {
        "id": "elect-shirt",
        "papermill": {
          "duration": 0.061409,
          "end_time": "2021-06-16T15:50:57.548844",
          "exception": false,
          "start_time": "2021-06-16T15:50:57.487435",
          "status": "completed"
        },
        "tags": []
      },
      "source": [
        "### Departments"
      ]
    },
    {
      "cell_type": "code",
      "execution_count": null,
      "id": "desperate-breed",
      "metadata": {
        "execution": {
          "iopub.execute_input": "2021-06-16T15:50:57.674820Z",
          "iopub.status.busy": "2021-06-16T15:50:57.674280Z",
          "iopub.status.idle": "2021-06-16T15:50:57.687066Z",
          "shell.execute_reply": "2021-06-16T15:50:57.687508Z",
          "shell.execute_reply.started": "2021-06-16T15:50:03.842649Z"
        },
        "id": "desperate-breed",
        "papermill": {
          "duration": 0.077211,
          "end_time": "2021-06-16T15:50:57.687664",
          "exception": false,
          "start_time": "2021-06-16T15:50:57.610453",
          "status": "completed"
        },
        "tags": []
      },
      "outputs": [],
      "source": [
        "df_by_dept = df_all.groupby('Dept', as_index=False).agg({'Weekly_Sales':'sum'})"
      ]
    },
    {
      "cell_type": "code",
      "execution_count": null,
      "id": "viral-stretch",
      "metadata": {
        "execution": {
          "iopub.execute_input": "2021-06-16T15:50:57.814110Z",
          "iopub.status.busy": "2021-06-16T15:50:57.813563Z",
          "iopub.status.idle": "2021-06-16T15:50:57.823416Z",
          "shell.execute_reply": "2021-06-16T15:50:57.823857Z",
          "shell.execute_reply.started": "2021-06-16T15:50:03.859646Z"
        },
        "id": "viral-stretch",
        "outputId": "0c31bc9a-a40b-42dd-92d9-af18eed15747",
        "papermill": {
          "duration": 0.074312,
          "end_time": "2021-06-16T15:50:57.824035",
          "exception": false,
          "start_time": "2021-06-16T15:50:57.749723",
          "status": "completed"
        },
        "tags": []
      },
      "outputs": [
        {
          "data": {
            "text/html": [
              "<div>\n",
              "<style scoped>\n",
              "    .dataframe tbody tr th:only-of-type {\n",
              "        vertical-align: middle;\n",
              "    }\n",
              "\n",
              "    .dataframe tbody tr th {\n",
              "        vertical-align: top;\n",
              "    }\n",
              "\n",
              "    .dataframe thead th {\n",
              "        text-align: right;\n",
              "    }\n",
              "</style>\n",
              "<table border=\"1\" class=\"dataframe\">\n",
              "  <thead>\n",
              "    <tr style=\"text-align: right;\">\n",
              "      <th></th>\n",
              "      <th>Dept</th>\n",
              "      <th>Weekly_Sales</th>\n",
              "    </tr>\n",
              "  </thead>\n",
              "  <tbody>\n",
              "    <tr>\n",
              "      <th>0</th>\n",
              "      <td>1</td>\n",
              "      <td>1.236388e+08</td>\n",
              "    </tr>\n",
              "    <tr>\n",
              "      <th>1</th>\n",
              "      <td>2</td>\n",
              "      <td>2.806112e+08</td>\n",
              "    </tr>\n",
              "    <tr>\n",
              "      <th>2</th>\n",
              "      <td>3</td>\n",
              "      <td>7.589245e+07</td>\n",
              "    </tr>\n",
              "    <tr>\n",
              "      <th>3</th>\n",
              "      <td>4</td>\n",
              "      <td>1.671467e+08</td>\n",
              "    </tr>\n",
              "    <tr>\n",
              "      <th>4</th>\n",
              "      <td>5</td>\n",
              "      <td>1.356074e+08</td>\n",
              "    </tr>\n",
              "    <tr>\n",
              "      <th>...</th>\n",
              "      <td>...</td>\n",
              "      <td>...</td>\n",
              "    </tr>\n",
              "    <tr>\n",
              "      <th>76</th>\n",
              "      <td>95</td>\n",
              "      <td>4.493202e+08</td>\n",
              "    </tr>\n",
              "    <tr>\n",
              "      <th>77</th>\n",
              "      <td>96</td>\n",
              "      <td>7.383392e+07</td>\n",
              "    </tr>\n",
              "    <tr>\n",
              "      <th>78</th>\n",
              "      <td>97</td>\n",
              "      <td>8.949651e+07</td>\n",
              "    </tr>\n",
              "    <tr>\n",
              "      <th>79</th>\n",
              "      <td>98</td>\n",
              "      <td>3.982892e+07</td>\n",
              "    </tr>\n",
              "    <tr>\n",
              "      <th>80</th>\n",
              "      <td>99</td>\n",
              "      <td>3.581499e+05</td>\n",
              "    </tr>\n",
              "  </tbody>\n",
              "</table>\n",
              "<p>81 rows × 2 columns</p>\n",
              "</div>"
            ],
            "text/plain": [
              "    Dept  Weekly_Sales\n",
              "0      1  1.236388e+08\n",
              "1      2  2.806112e+08\n",
              "2      3  7.589245e+07\n",
              "3      4  1.671467e+08\n",
              "4      5  1.356074e+08\n",
              "..   ...           ...\n",
              "76    95  4.493202e+08\n",
              "77    96  7.383392e+07\n",
              "78    97  8.949651e+07\n",
              "79    98  3.982892e+07\n",
              "80    99  3.581499e+05\n",
              "\n",
              "[81 rows x 2 columns]"
            ]
          },
          "execution_count": 46,
          "metadata": {},
          "output_type": "execute_result"
        }
      ],
      "source": [
        "df_by_dept"
      ]
    },
    {
      "cell_type": "code",
      "execution_count": null,
      "id": "twelve-medium",
      "metadata": {
        "execution": {
          "iopub.execute_input": "2021-06-16T15:50:57.952669Z",
          "iopub.status.busy": "2021-06-16T15:50:57.952095Z",
          "iopub.status.idle": "2021-06-16T15:50:57.956158Z",
          "shell.execute_reply": "2021-06-16T15:50:57.956585Z",
          "shell.execute_reply.started": "2021-06-16T15:50:03.876159Z"
        },
        "id": "twelve-medium",
        "papermill": {
          "duration": 0.070738,
          "end_time": "2021-06-16T15:50:57.956739",
          "exception": false,
          "start_time": "2021-06-16T15:50:57.886001",
          "status": "completed"
        },
        "tags": []
      },
      "outputs": [],
      "source": [
        "df_by_dept.sort_values(by = 'Weekly_Sales', ascending = False, inplace = True)"
      ]
    },
    {
      "cell_type": "code",
      "execution_count": null,
      "id": "secondary-syndicate",
      "metadata": {
        "execution": {
          "iopub.execute_input": "2021-06-16T15:50:58.085444Z",
          "iopub.status.busy": "2021-06-16T15:50:58.084857Z",
          "iopub.status.idle": "2021-06-16T15:50:58.088132Z",
          "shell.execute_reply": "2021-06-16T15:50:58.088613Z",
          "shell.execute_reply.started": "2021-06-16T15:50:03.890530Z"
        },
        "id": "secondary-syndicate",
        "papermill": {
          "duration": 0.069885,
          "end_time": "2021-06-16T15:50:58.088762",
          "exception": false,
          "start_time": "2021-06-16T15:50:58.018877",
          "status": "completed"
        },
        "tags": []
      },
      "outputs": [],
      "source": [
        "df_by_dept.reset_index(drop=True, inplace=True)"
      ]
    },
    {
      "cell_type": "code",
      "execution_count": null,
      "id": "attached-cement",
      "metadata": {
        "execution": {
          "iopub.execute_input": "2021-06-16T15:50:58.224081Z",
          "iopub.status.busy": "2021-06-16T15:50:58.223473Z",
          "iopub.status.idle": "2021-06-16T15:50:58.226504Z",
          "shell.execute_reply": "2021-06-16T15:50:58.226972Z",
          "shell.execute_reply.started": "2021-06-16T15:50:03.903087Z"
        },
        "id": "attached-cement",
        "outputId": "b7bc940b-6830-4b96-de48-b58b9614a1ce",
        "papermill": {
          "duration": 0.075947,
          "end_time": "2021-06-16T15:50:58.227133",
          "exception": false,
          "start_time": "2021-06-16T15:50:58.151186",
          "status": "completed"
        },
        "tags": []
      },
      "outputs": [
        {
          "data": {
            "text/html": [
              "<div>\n",
              "<style scoped>\n",
              "    .dataframe tbody tr th:only-of-type {\n",
              "        vertical-align: middle;\n",
              "    }\n",
              "\n",
              "    .dataframe tbody tr th {\n",
              "        vertical-align: top;\n",
              "    }\n",
              "\n",
              "    .dataframe thead th {\n",
              "        text-align: right;\n",
              "    }\n",
              "</style>\n",
              "<table border=\"1\" class=\"dataframe\">\n",
              "  <thead>\n",
              "    <tr style=\"text-align: right;\">\n",
              "      <th></th>\n",
              "      <th>Dept</th>\n",
              "      <th>Weekly_Sales</th>\n",
              "    </tr>\n",
              "  </thead>\n",
              "  <tbody>\n",
              "    <tr>\n",
              "      <th>0</th>\n",
              "      <td>92</td>\n",
              "      <td>4.839433e+08</td>\n",
              "    </tr>\n",
              "    <tr>\n",
              "      <th>1</th>\n",
              "      <td>95</td>\n",
              "      <td>4.493202e+08</td>\n",
              "    </tr>\n",
              "    <tr>\n",
              "      <th>2</th>\n",
              "      <td>38</td>\n",
              "      <td>3.931181e+08</td>\n",
              "    </tr>\n",
              "    <tr>\n",
              "      <th>3</th>\n",
              "      <td>72</td>\n",
              "      <td>3.057252e+08</td>\n",
              "    </tr>\n",
              "    <tr>\n",
              "      <th>4</th>\n",
              "      <td>90</td>\n",
              "      <td>2.910685e+08</td>\n",
              "    </tr>\n",
              "    <tr>\n",
              "      <th>...</th>\n",
              "      <td>...</td>\n",
              "      <td>...</td>\n",
              "    </tr>\n",
              "    <tr>\n",
              "      <th>76</th>\n",
              "      <td>51</td>\n",
              "      <td>3.057283e+04</td>\n",
              "    </tr>\n",
              "    <tr>\n",
              "      <th>77</th>\n",
              "      <td>78</td>\n",
              "      <td>1.714710e+03</td>\n",
              "    </tr>\n",
              "    <tr>\n",
              "      <th>78</th>\n",
              "      <td>39</td>\n",
              "      <td>1.779800e+02</td>\n",
              "    </tr>\n",
              "    <tr>\n",
              "      <th>79</th>\n",
              "      <td>43</td>\n",
              "      <td>1.432000e+01</td>\n",
              "    </tr>\n",
              "    <tr>\n",
              "      <th>80</th>\n",
              "      <td>47</td>\n",
              "      <td>-4.962930e+03</td>\n",
              "    </tr>\n",
              "  </tbody>\n",
              "</table>\n",
              "<p>81 rows × 2 columns</p>\n",
              "</div>"
            ],
            "text/plain": [
              "    Dept  Weekly_Sales\n",
              "0     92  4.839433e+08\n",
              "1     95  4.493202e+08\n",
              "2     38  3.931181e+08\n",
              "3     72  3.057252e+08\n",
              "4     90  2.910685e+08\n",
              "..   ...           ...\n",
              "76    51  3.057283e+04\n",
              "77    78  1.714710e+03\n",
              "78    39  1.779800e+02\n",
              "79    43  1.432000e+01\n",
              "80    47 -4.962930e+03\n",
              "\n",
              "[81 rows x 2 columns]"
            ]
          },
          "execution_count": 49,
          "metadata": {},
          "output_type": "execute_result"
        }
      ],
      "source": [
        "df_by_dept"
      ]
    },
    {
      "cell_type": "markdown",
      "id": "impossible-craps",
      "metadata": {
        "id": "impossible-craps",
        "papermill": {
          "duration": 0.061672,
          "end_time": "2021-06-16T15:50:58.351621",
          "exception": false,
          "start_time": "2021-06-16T15:50:58.289949",
          "status": "completed"
        },
        "tags": []
      },
      "source": [
        "best and worst performing departments can be seen above"
      ]
    },
    {
      "cell_type": "code",
      "execution_count": null,
      "id": "following-covering",
      "metadata": {
        "execution": {
          "iopub.execute_input": "2021-06-16T15:50:58.478764Z",
          "iopub.status.busy": "2021-06-16T15:50:58.478242Z",
          "iopub.status.idle": "2021-06-16T15:50:58.593366Z",
          "shell.execute_reply": "2021-06-16T15:50:58.593792Z",
          "shell.execute_reply.started": "2021-06-16T15:50:03.930209Z"
        },
        "id": "following-covering",
        "outputId": "5e83b544-e083-4864-df38-44ace93c1864",
        "papermill": {
          "duration": 0.180226,
          "end_time": "2021-06-16T15:50:58.593973",
          "exception": false,
          "start_time": "2021-06-16T15:50:58.413747",
          "status": "completed"
        },
        "tags": []
      },
      "outputs": [
        {
          "data": {
            "image/png": "[encoded data removed]",
            "text/plain": [
              "<Figure size 432x288 with 1 Axes>"
            ]
          },
          "metadata": {
            "needs_background": "light"
          },
          "output_type": "display_data"
        }
      ],
      "source": [
        "sns.barplot(y='Weekly_Sales', x='Dept', data=df_by_dept[:5]);"
      ]
    },
    {
      "cell_type": "code",
      "execution_count": null,
      "id": "growing-malta",
      "metadata": {
        "execution": {
          "iopub.execute_input": "2021-06-16T15:50:58.722846Z",
          "iopub.status.busy": "2021-06-16T15:50:58.722327Z",
          "iopub.status.idle": "2021-06-16T15:50:58.855537Z",
          "shell.execute_reply": "2021-06-16T15:50:58.855990Z",
          "shell.execute_reply.started": "2021-06-16T15:50:04.074213Z"
        },
        "id": "growing-malta",
        "outputId": "b6076ab2-1d9f-491b-8f2f-9d75846d1bae",
        "papermill": {
          "duration": 0.199021,
          "end_time": "2021-06-16T15:50:58.856154",
          "exception": false,
          "start_time": "2021-06-16T15:50:58.657133",
          "status": "completed"
        },
        "tags": []
      },
      "outputs": [
        {
          "data": {
            "image/png": "[encoded data removed]",
            "text/plain": [
              "<Figure size 432x288 with 1 Axes>"
            ]
          },
          "metadata": {
            "needs_background": "light"
          },
          "output_type": "display_data"
        }
      ],
      "source": [
        "sns.barplot(y='Weekly_Sales', x='Dept', data=df_by_dept[-5:]);"
      ]
    },
    {
      "cell_type": "markdown",
      "id": "shaped-consultation",
      "metadata": {
        "id": "shaped-consultation",
        "papermill": {
          "duration": 0.063089,
          "end_time": "2021-06-16T15:50:58.983283",
          "exception": false,
          "start_time": "2021-06-16T15:50:58.920194",
          "status": "completed"
        },
        "tags": []
      },
      "source": [
        "# Forecasting using the Holt-Winters Model"
      ]
    },
    {
      "cell_type": "markdown",
      "id": "loving-utilization",
      "metadata": {
        "id": "loving-utilization",
        "papermill": {
          "duration": 0.063653,
          "end_time": "2021-06-16T15:50:59.110492",
          "exception": false,
          "start_time": "2021-06-16T15:50:59.046839",
          "status": "completed"
        },
        "tags": []
      },
      "source": [
        "Exponential smoothing is a technique for smoothening time series data by giving different weights which are exponentially decreasing over time, unlike simple moving average method which assigns equal weightage to all observations.\n",
        "Holt Winters exponential smoothening applies exponential smoothing three times, usually done when high frequency signal has to be removed."
      ]
    },
    {
      "cell_type": "markdown",
      "id": "functional-arbor",
      "metadata": {
        "id": "functional-arbor",
        "papermill": {
          "duration": 0.063301,
          "end_time": "2021-06-16T15:50:59.237757",
          "exception": false,
          "start_time": "2021-06-16T15:50:59.174456",
          "status": "completed"
        },
        "tags": []
      },
      "source": [
        "### Train and test on 2012 data to determine accuracy"
      ]
    },
    {
      "cell_type": "code",
      "execution_count": null,
      "id": "vietnamese-shopping",
      "metadata": {
        "execution": {
          "iopub.execute_input": "2021-06-16T15:50:59.368633Z",
          "iopub.status.busy": "2021-06-16T15:50:59.368071Z",
          "iopub.status.idle": "2021-06-16T15:50:59.472265Z",
          "shell.execute_reply": "2021-06-16T15:50:59.472698Z",
          "shell.execute_reply.started": "2021-06-16T15:50:04.232356Z"
        },
        "id": "vietnamese-shopping",
        "papermill": {
          "duration": 0.171027,
          "end_time": "2021-06-16T15:50:59.472874",
          "exception": false,
          "start_time": "2021-06-16T15:50:59.301847",
          "status": "completed"
        },
        "tags": []
      },
      "outputs": [],
      "source": [
        "from statsmodels.tsa.holtwinters import ExponentialSmoothing"
      ]
    },
    {
      "cell_type": "code",
      "execution_count": null,
      "id": "harmful-finnish",
      "metadata": {
        "execution": {
          "iopub.execute_input": "2021-06-16T15:50:59.604418Z",
          "iopub.status.busy": "2021-06-16T15:50:59.603753Z",
          "iopub.status.idle": "2021-06-16T15:50:59.716317Z",
          "shell.execute_reply": "2021-06-16T15:50:59.715833Z",
          "shell.execute_reply.started": "2021-06-16T15:50:04.363947Z"
        },
        "id": "harmful-finnish",
        "outputId": "c3b5fbd5-3284-4f28-fa76-1682eff7e388",
        "papermill": {
          "duration": 0.179212,
          "end_time": "2021-06-16T15:50:59.716447",
          "exception": false,
          "start_time": "2021-06-16T15:50:59.537235",
          "status": "completed"
        },
        "scrolled": true,
        "tags": []
      },
      "outputs": [
        {
          "name": "stderr",
          "output_type": "stream",
          "text": [
            "/opt/conda/lib/python3.7/site-packages/statsmodels/tsa/holtwinters/model.py:429: FutureWarning: After 0.13 initialization must be handled at model creation\n",
            "  FutureWarning,\n",
            "/opt/conda/lib/python3.7/site-packages/statsmodels/tsa/holtwinters/model.py:922: ConvergenceWarning: Optimization failed to converge. Check mle_retvals.\n",
            "  ConvergenceWarning,\n"
          ]
        },
        {
          "data": {
            "text/plain": [
              "2012-04-29    4.408942e+07\n",
              "2012-05-06    4.817760e+07\n",
              "2012-05-13    4.566087e+07\n",
              "2012-05-20    4.433041e+07\n",
              "2012-05-27    4.572858e+07\n",
              "2012-06-03    4.722452e+07\n",
              "2012-06-10    4.775316e+07\n",
              "2012-06-17    4.767476e+07\n",
              "2012-06-24    4.613555e+07\n",
              "2012-07-01    4.355716e+07\n",
              "2012-07-08    4.767521e+07\n",
              "2012-07-15    4.591669e+07\n",
              "2012-07-22    4.553187e+07\n",
              "2012-07-29    4.402422e+07\n",
              "2012-08-05    4.698084e+07\n",
              "2012-08-12    4.693513e+07\n",
              "2012-08-19    4.699070e+07\n",
              "2012-08-26    4.727584e+07\n",
              "2012-09-02    4.675870e+07\n",
              "2012-09-09    4.680289e+07\n",
              "2012-09-16    4.888037e+07\n",
              "2012-09-23    4.221776e+07\n",
              "2012-09-30    4.214340e+07\n",
              "2012-10-07    4.712165e+07\n",
              "2012-10-14    4.449558e+07\n",
              "2012-10-21    4.524869e+07\n",
              "2012-10-28    4.520996e+07\n",
              "2012-11-04    4.567486e+07\n",
              "2012-11-11    4.764565e+07\n",
              "2012-11-18    4.568688e+07\n",
              "2012-11-25    6.583377e+07\n",
              "2012-12-02    4.562485e+07\n",
              "2012-12-09    4.553103e+07\n",
              "2012-12-16    5.954812e+07\n",
              "Freq: W-SUN, dtype: float64"
            ]
          },
          "execution_count": 53,
          "metadata": {},
          "output_type": "execute_result"
        }
      ],
      "source": [
        "fit_model = ExponentialSmoothing(df_by_date_new['Weekly_Sales'][:120],\n",
        "                                 trend = 'add',\n",
        "                                 seasonal = 'add',\n",
        "                                 seasonal_periods = 52).fit()\n",
        "\n",
        "prediction = fit_model.forecast(34)\n",
        "prediction"
      ]
    },
    {
      "cell_type": "code",
      "execution_count": null,
      "id": "literary-lloyd",
      "metadata": {
        "execution": {
          "iopub.execute_input": "2021-06-16T15:50:59.864251Z",
          "iopub.status.busy": "2021-06-16T15:50:59.863659Z",
          "iopub.status.idle": "2021-06-16T15:51:00.065127Z",
          "shell.execute_reply": "2021-06-16T15:51:00.065564Z",
          "shell.execute_reply.started": "2021-06-16T15:50:04.531864Z"
        },
        "id": "literary-lloyd",
        "outputId": "0af6ecb5-1ff5-4b49-977f-6e3d9b981e93",
        "papermill": {
          "duration": 0.284506,
          "end_time": "2021-06-16T15:51:00.065725",
          "exception": false,
          "start_time": "2021-06-16T15:50:59.781219",
          "status": "completed"
        },
        "tags": []
      },
      "outputs": [
        {
          "data": {
            "image/png": "[encoded data removed]",
            "text/plain": [
              "<Figure size 1440x720 with 1 Axes>"
            ]
          },
          "metadata": {
            "needs_background": "light"
          },
          "output_type": "display_data"
        }
      ],
      "source": [
        "plt.figure(figsize=(20,10))\n",
        "plt.plot(df_by_date_new.index[120:], prediction, label = 'predicted')\n",
        "plt.plot(df_by_date_new.index[120:], df_by_date_new.Weekly_Sales[120:], label = 'actual')\n",
        "plt.legend();"
      ]
    },
    {
      "cell_type": "code",
      "execution_count": null,
      "id": "frequent-collector",
      "metadata": {
        "execution": {
          "iopub.execute_input": "2021-06-16T15:51:00.202185Z",
          "iopub.status.busy": "2021-06-16T15:51:00.201591Z",
          "iopub.status.idle": "2021-06-16T15:51:00.208164Z",
          "shell.execute_reply": "2021-06-16T15:51:00.208675Z",
          "shell.execute_reply.started": "2021-06-16T15:50:04.778570Z"
        },
        "id": "frequent-collector",
        "outputId": "3397d64a-e881-43a2-d0f6-63f8391aaba0",
        "papermill": {
          "duration": 0.075857,
          "end_time": "2021-06-16T15:51:00.208827",
          "exception": false,
          "start_time": "2021-06-16T15:51:00.132970",
          "status": "completed"
        },
        "tags": []
      },
      "outputs": [
        {
          "name": "stdout",
          "output_type": "stream",
          "text": [
            "Mean Absolute Percentage Error = 5.049223519524754%\n"
          ]
        }
      ],
      "source": [
        "def mean_absolute_percentage_error(y_true, y_pred):\n",
        "    return np.mean(np.abs((y_true - y_pred) / y_true)) * 100\n",
        "print(\"Mean Absolute Percentage Error = {a}%\".format(a=mean_absolute_percentage_error(df_by_date_new.Weekly_Sales[120:],prediction)))"
      ]
    },
    {
      "cell_type": "code",
      "execution_count": null,
      "id": "failing-martin",
      "metadata": {
        "id": "failing-martin",
        "papermill": {
          "duration": 0.065688,
          "end_time": "2021-06-16T15:51:00.344726",
          "exception": false,
          "start_time": "2021-06-16T15:51:00.279038",
          "status": "completed"
        },
        "tags": []
      },
      "outputs": [],
      "source": []
    },
    {
      "cell_type": "markdown",
      "id": "stupid-article",
      "metadata": {
        "id": "stupid-article",
        "papermill": {
          "duration": 0.065975,
          "end_time": "2021-06-16T15:51:00.476831",
          "exception": false,
          "start_time": "2021-06-16T15:51:00.410856",
          "status": "completed"
        },
        "tags": []
      },
      "source": [
        "### Forecasting 2013 sales"
      ]
    },
    {
      "cell_type": "code",
      "execution_count": null,
      "id": "assumed-montana",
      "metadata": {
        "execution": {
          "iopub.execute_input": "2021-06-16T15:51:00.623664Z",
          "iopub.status.busy": "2021-06-16T15:51:00.623053Z",
          "iopub.status.idle": "2021-06-16T15:51:00.743547Z",
          "shell.execute_reply": "2021-06-16T15:51:00.744148Z",
          "shell.execute_reply.started": "2021-06-16T15:50:04.788041Z"
        },
        "id": "assumed-montana",
        "outputId": "61529b1d-8fa7-4c2f-ec66-132488a16f00",
        "papermill": {
          "duration": 0.200892,
          "end_time": "2021-06-16T15:51:00.744366",
          "exception": false,
          "start_time": "2021-06-16T15:51:00.543474",
          "status": "completed"
        },
        "tags": []
      },
      "outputs": [
        {
          "name": "stderr",
          "output_type": "stream",
          "text": [
            "/opt/conda/lib/python3.7/site-packages/statsmodels/tsa/holtwinters/model.py:429: FutureWarning: After 0.13 initialization must be handled at model creation\n",
            "  FutureWarning,\n",
            "/opt/conda/lib/python3.7/site-packages/statsmodels/tsa/holtwinters/model.py:922: ConvergenceWarning: Optimization failed to converge. Check mle_retvals.\n",
            "  ConvergenceWarning,\n"
          ]
        },
        {
          "data": {
            "text/plain": [
              "2012-12-09    4.534679e+07\n",
              "2012-12-16    5.961971e+07\n",
              "2012-12-23    7.710915e+07\n",
              "2012-12-30    4.390688e+07\n",
              "2013-01-06    4.645471e+07\n",
              "2013-01-13    4.113835e+07\n",
              "2013-01-20    4.125951e+07\n",
              "2013-01-27    3.945413e+07\n",
              "2013-02-03    4.633575e+07\n",
              "2013-02-10    4.881627e+07\n",
              "2013-02-17    4.898937e+07\n",
              "2013-02-24    4.448937e+07\n",
              "2013-03-03    4.581386e+07\n",
              "2013-03-10    4.622648e+07\n",
              "2013-03-17    4.554279e+07\n",
              "2013-03-24    4.362269e+07\n",
              "2013-03-31    4.483996e+07\n",
              "2013-04-07    4.637862e+07\n",
              "2013-04-14    4.574506e+07\n",
              "2013-04-21    4.487215e+07\n",
              "2013-04-28    4.306576e+07\n",
              "2013-05-05    4.684353e+07\n",
              "2013-05-12    4.627643e+07\n",
              "2013-05-19    4.535822e+07\n",
              "2013-05-26    4.647877e+07\n",
              "2013-06-02    4.453537e+07\n",
              "2013-06-09    5.031685e+07\n",
              "2013-06-16    4.714808e+07\n",
              "2013-06-23    4.620965e+07\n",
              "2013-06-30    4.489704e+07\n",
              "2013-07-07    4.615667e+07\n",
              "2013-07-14    4.573147e+07\n",
              "2013-07-21    4.469827e+07\n",
              "2013-07-28    4.288439e+07\n",
              "2013-08-04    4.774060e+07\n",
              "2013-08-11    4.765251e+07\n",
              "2013-08-18    4.590399e+07\n",
              "2013-08-25    4.599340e+07\n",
              "2013-09-01    4.572641e+07\n",
              "2013-09-08    4.600227e+07\n",
              "2013-09-15    4.379661e+07\n",
              "2013-09-22    4.256959e+07\n",
              "2013-09-29    4.218801e+07\n",
              "2013-10-06    4.793384e+07\n",
              "2013-10-13    4.548174e+07\n",
              "2013-10-20    4.362780e+07\n",
              "2013-10-27    4.396827e+07\n",
              "2013-11-03    4.526519e+07\n",
              "2013-11-10    4.556129e+07\n",
              "2013-11-17    4.457894e+07\n",
              "2013-11-24    4.955498e+07\n",
              "2013-12-01    4.482776e+07\n",
              "2013-12-08    4.459111e+07\n",
              "2013-12-15    5.886404e+07\n",
              "2013-12-22    7.635347e+07\n",
              "2013-12-29    4.315120e+07\n",
              "Freq: W-SUN, dtype: float64"
            ]
          },
          "execution_count": 56,
          "metadata": {},
          "output_type": "execute_result"
        }
      ],
      "source": [
        "fit_model = ExponentialSmoothing(df_by_date_new['Weekly_Sales'][:-2],\n",
        "                                 trend = 'add',\n",
        "                                 seasonal = 'add',\n",
        "                                 seasonal_periods = 52).fit()\n",
        "\n",
        "future_prediction = fit_model.forecast(56)\n",
        "future_prediction"
      ]
    },
    {
      "cell_type": "code",
      "execution_count": null,
      "id": "disabled-drunk",
      "metadata": {
        "execution": {
          "iopub.execute_input": "2021-06-16T15:51:00.905063Z",
          "iopub.status.busy": "2021-06-16T15:51:00.903777Z",
          "iopub.status.idle": "2021-06-16T15:51:01.123421Z",
          "shell.execute_reply": "2021-06-16T15:51:01.122946Z",
          "shell.execute_reply.started": "2021-06-16T15:50:04.982235Z"
        },
        "id": "disabled-drunk",
        "outputId": "9fa968d1-bceb-4df7-da56-da67b971bc45",
        "papermill": {
          "duration": 0.311521,
          "end_time": "2021-06-16T15:51:01.123569",
          "exception": false,
          "start_time": "2021-06-16T15:51:00.812048",
          "status": "completed"
        },
        "tags": []
      },
      "outputs": [
        {
          "data": {
            "text/plain": [
              "<matplotlib.legend.Legend at 0x7fcf72012e10>"
            ]
          },
          "execution_count": 57,
          "metadata": {},
          "output_type": "execute_result"
        },
        {
          "data": {
            "image/png": "[encoded data removed]",
            "text/plain": [
              "<Figure size 1440x720 with 1 Axes>"
            ]
          },
          "metadata": {
            "needs_background": "light"
          },
          "output_type": "display_data"
        }
      ],
      "source": [
        "plt.figure(figsize=(20, 10))\n",
        "plt.plot(df_by_date_new.index, df_by_date_new.Weekly_Sales)\n",
        "plt.plot(future_prediction, '--')\n",
        "plt.legend(['2010-2012 actual', '2013 forecast'])"
      ]
    },
    {
      "cell_type": "code",
      "execution_count": null,
      "id": "bulgarian-glory",
      "metadata": {
        "id": "bulgarian-glory",
        "papermill": {
          "duration": 0.07029,
          "end_time": "2021-06-16T15:51:01.264005",
          "exception": false,
          "start_time": "2021-06-16T15:51:01.193715",
          "status": "completed"
        },
        "tags": []
      },
      "outputs": [],
      "source": []
    }
  ],
  "metadata": {
    "kernelspec": {
      "display_name": "Python 3",
      "language": "python",
      "name": "python3"
    },
    "language_info": {
      "codemirror_mode": {
        "name": "ipython",
        "version": 3
      },
      "file_extension": ".py",
      "mimetype": "text/x-python",
      "name": "python",
      "nbconvert_exporter": "python",
      "pygments_lexer": "ipython3",
      "version": "3.7.9"
    },
    "papermill": {
      "default_parameters": {},
      "duration": 22.837989,
      "end_time": "2021-06-16T15:51:02.920605",
      "environment_variables": {},
      "exception": null,
      "input_path": "__notebook__.ipynb",
      "output_path": "__notebook__.ipynb",
      "parameters": {},
      "start_time": "2021-06-16T15:50:40.082616",
      "version": "2.3.2"
    },
    "colab": {
      "provenance": [],
      "include_colab_link": true
    }
  },
  "nbformat": 4,
  "nbformat_minor": 5
}